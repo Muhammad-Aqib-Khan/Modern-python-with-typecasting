{
 "cells": [
  {
   "cell_type": "code",
   "execution_count": 7,
   "metadata": {},
   "outputs": [
    {
     "name": "stdout",
     "output_type": "stream",
     "text": [
      "6 feet\n",
      "blue\n",
      "Mother Speaking function pakistan Zindabad\n"
     ]
    }
   ],
   "source": [
    "class Mother():\n",
    "    def __init__(self,name : str)->None:\n",
    "        self.name : str = name\n",
    "        self.eye : str = \"blue\"\n",
    "    \n",
    "    def speaking(self, words : str)->None:\n",
    "        return f\"Mother Speaking function {words}\"   \n",
    "class Father():\n",
    "    def __init__(self, name : str)->None:\n",
    "        self.name : str = name\n",
    "        self.height : str = \"6 feet\"\n",
    "        \n",
    "class Child(Mother,Father):\n",
    "    def __init__(self,mother_name : str , father_name :str, child_name : str):\n",
    "       Mother.__init__(self,mother_name)\n",
    "       Father.__init__(self,father_name)\n",
    "       self.child_name : str = child_name\n",
    "       \n",
    "aqib : Child = Child(\"Fiza Malik\", \"Muhammad Khan\" ,\"Aqib khan\")\n",
    "print(aqib.height)\n",
    "print(aqib.eye)\n",
    "print(aqib.speaking(\"pakistan Zindabad\"))\n",
    "       \n",
    "       "
   ]
  },
  {
   "cell_type": "code",
   "execution_count": 10,
   "metadata": {},
   "outputs": [
    {
     "name": "stdout",
     "output_type": "stream",
     "text": [
      "bird is eatingbread\n",
      "Animal is Eating grass\n"
     ]
    }
   ],
   "source": [
    "class Animal():\n",
    "    def eating(self, food : str)->None:\n",
    "        print(f\"Animal is Eating {food}\")\n",
    "        \n",
    "class Bird(Animal):\n",
    "    def eating(self, food : str )->None:\n",
    "        print(f\"bird is eating{food}\")\n",
    "\n",
    "bird : Bird = Bird()\n",
    "bird.eating(\"bread\")\n",
    "animal : Animal = Animal()\n",
    "animal.eating(\"grass\")\n",
    "\n",
    "\n",
    "\n",
    "\n"
   ]
  },
  {
   "cell_type": "code",
   "execution_count": 6,
   "metadata": {},
   "outputs": [
    {
     "data": {
      "text/plain": [
       "7"
      ]
     },
     "execution_count": 6,
     "metadata": {},
     "output_type": "execute_result"
    }
   ],
   "source": [
    "class Powerfactory:\n",
    "    def __init__(self,exponent :str = 3):\n",
    "        self.exponent = exponent\n",
    "    def __call__(self,base):\n",
    "        return base**self.exponent\n",
    "    \n",
    "a : Powerfactory = Powerfactory(7)\n",
    "a.exponent    \n",
    "    "
   ]
  }
 ],
 "metadata": {
  "kernelspec": {
   "display_name": "python12",
   "language": "python",
   "name": "python3"
  },
  "language_info": {
   "codemirror_mode": {
    "name": "ipython",
    "version": 3
   },
   "file_extension": ".py",
   "mimetype": "text/x-python",
   "name": "python",
   "nbconvert_exporter": "python",
   "pygments_lexer": "ipython3",
   "version": "3.12.0"
  }
 },
 "nbformat": 4,
 "nbformat_minor": 2
}
