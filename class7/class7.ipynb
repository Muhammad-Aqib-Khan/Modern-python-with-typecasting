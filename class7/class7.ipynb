{
 "cells": [
  {
   "cell_type": "code",
   "execution_count": null,
   "metadata": {},
   "outputs": [],
   "source": [
    "data : list[str] = [\"Muhammad Aqib Khan\", \"Muhammad Khan\", \" started python\" ]"
   ]
  },
  {
   "cell_type": "code",
   "execution_count": null,
   "metadata": {},
   "outputs": [],
   "source": []
  },
  {
   "cell_type": "code",
   "execution_count": null,
   "metadata": {},
   "outputs": [],
   "source": []
  },
  {
   "cell_type": "code",
   "execution_count": 3,
   "metadata": {},
   "outputs": [
    {
     "name": "stdout",
     "output_type": "stream",
     "text": [
      "{'fname': 'Muhammad Khan', 'sname': 'Muhammad Aqib Khan', 'education': 'Bioinformatics'}\n",
      "{'education': 'Bioinformatics',\n",
      " 'fname': 'Muhammad Khan',\n",
      " 'sname': 'Muhammad Aqib Khan'}\n"
     ]
    }
   ],
   "source": [
    "from typing import Dict ,Union,Optional\n",
    "import pprint\n",
    "\n",
    "key = Union[int,str]\n",
    "Value = Union[int,str ,list ,dict,tuple,set]\n",
    "\n",
    "data : Dict[key,Value] = {\n",
    "                 \"fname\":\"Muhammad Khan\",\n",
    "                 \"sname\":\"Muhammad Aqib Khan\",\n",
    "                 \"education\": \"Bioinformatics\"\n",
    "}\n",
    "print(data)\n",
    "pprint.pprint(data)"
   ]
  },
  {
   "cell_type": "code",
   "execution_count": 2,
   "metadata": {},
   "outputs": [
    {
     "name": "stdout",
     "output_type": "stream",
     "text": [
      "{'fname': 'Muhammad Khan', 'sname': 'Muhammad Aqib Khan', 'education': 'Bioinformatics'}\n",
      "{'education': 'Bioinformatics',\n",
      " 'fname': 'Muhammad Khan',\n",
      " 'sname': 'Muhammad Aqib Khan'}\n"
     ]
    }
   ],
   "source": [
    "from typing import Dict ,Union,Optional\n",
    "import pprint\n",
    "\n",
    "key = Union[int,str]\n",
    "Value = Union[int,str ,list ,dict,tuple,set]\n",
    "\n",
    "data : Dict[key,Value] = {\n",
    "                 \"fname\":\"Muhammad Khan\",\n",
    "                 \"sname\":\"Muhammad Aqib Khan\",\n",
    "                 \"education\": \"Bioinformatics\"\n",
    "}\n",
    "print(data)\n",
    "pprint.pprint(data)"
   ]
  },
  {
   "cell_type": "code",
   "execution_count": 11,
   "metadata": {},
   "outputs": [
    {
     "name": "stdout",
     "output_type": "stream",
     "text": [
      "fname\n",
      "sname\n",
      "education\n"
     ]
    }
   ],
   "source": [
    "from typing import Dict ,Union,Optional\n",
    "import pprint\n",
    "\n",
    "key = Union[int,str]\n",
    "Value = Union[int,str ,list ,dict,tuple,set]\n",
    "\n",
    "data : Dict[key,Value] = {\n",
    "                 \"fname\":\"Muhammad Khan\",\n",
    "                 \"sname\":\"Muhammad Aqib Khan\",\n",
    "                 \"education\": \"Bioinformatics\"\n",
    "}\n",
    "print(data)\n",
    "data[\"sname\"] = \"m.aqib\"\n",
    "print(data)\n",
    "\n",
    "print(data.get(\"pakistan\",\"Na\"))\n",
    "print(data.get(\"pakistan\",\"Na\"))\n",
    "[i for i in dir(data) if \"__\" not in i]"
   ]
  },
  {
   "cell_type": "code",
   "execution_count": 22,
   "metadata": {},
   "outputs": [
    {
     "name": "stdout",
     "output_type": "stream",
     "text": [
      "dict_keys(['fname', 'sname', 'education'])\n",
      "dict_values(['Muhammad Khan', 'Muhammad Aqib Khan', 'Bioinformatics'])\n",
      "dict_items([('fname', 'Muhammad Khan'), ('sname', 'Muhammad Aqib Khan'), ('education', 'Bioinformatics')])\n",
      "fname Muhammad Khan\n",
      "sname Muhammad Aqib Khan\n",
      "education Bioinformatics\n"
     ]
    }
   ],
   "source": [
    "from typing import Dict ,Union,Optional\n",
    "import pprint\n",
    "\n",
    "key = Union[int,str]\n",
    "Value = Union[int,str ,list ,dict,tuple,set]\n",
    "\n",
    "data : Dict[key,Value] = {\n",
    "                 \"fname\":\"Muhammad Khan\",\n",
    "                 \"sname\":\"Muhammad Aqib Khan\",\n",
    "                 \"education\": \"Bioinformatics\"\n",
    "}\n",
    "print(data.keys())\n",
    "print(data.values())\n",
    "print(data.items())\n",
    "for k in data.keys() : \n",
    "    print(k,data[k])"
   ]
  },
  {
   "cell_type": "code",
   "execution_count": 24,
   "metadata": {},
   "outputs": [
    {
     "name": "stdout",
     "output_type": "stream",
     "text": [
      "fname Muhammad Khan\n",
      "sname Muhammad Aqib Khan\n",
      "education Bioinformatics\n"
     ]
    }
   ],
   "source": [
    "for k,v in data.items() :\n",
    "    print(k,v)"
   ]
  },
  {
   "cell_type": "code",
   "execution_count": 25,
   "metadata": {},
   "outputs": [
    {
     "data": {
      "text/plain": [
       "{'fname': 'Muhammad Khan',\n",
       " 'sname': 'Muhammad Aqib Khan',\n",
       " 'education': 'Bioinformatics'}"
      ]
     },
     "execution_count": 25,
     "metadata": {},
     "output_type": "execute_result"
    }
   ],
   "source": [
    "{k:v for k,v in data.items()}"
   ]
  },
  {
   "cell_type": "code",
   "execution_count": 35,
   "metadata": {},
   "outputs": [
    {
     "name": "stdout",
     "output_type": "stream",
     "text": [
      "{'fname': 'Muhammad Khan', 'sname': 'Muhammad Aqib Khan', 'education': 'Bioinformatics'}\n",
      "None\n",
      "{'fname': 'Muhammad Khan', 'sname': 'm.aqib', 'education': 'Bioinformatics'}\n"
     ]
    }
   ],
   "source": [
    "from typing import Dict ,Union,Optional\n",
    "import pprint\n",
    "\n",
    "key = Union[int,str]\n",
    "Value = Union[int,str ,list ,dict,tuple,set]\n",
    "\n",
    "data : Dict[key,Value] = {\n",
    "                 \"fname\":\"Muhammad Khan\",\n",
    "                 \"sname\":\"Muhammad Aqib Khan\",\n",
    "                 \"education\": \"Bioinformatics\"\n",
    "}\n",
    "print(data)\n",
    "print(data.get(\"pakistan\" ))\n",
    "data[\"sname\"] = \"m.aqib\"\n",
    "print(data)"
   ]
  },
  {
   "cell_type": "code",
   "execution_count": 37,
   "metadata": {},
   "outputs": [
    {
     "name": "stdout",
     "output_type": "stream",
     "text": [
      "6 8\n",
      "8 6\n"
     ]
    }
   ],
   "source": [
    "a : int = 6\n",
    "b : int= 8\n",
    "print(a,b)\n",
    "a ,b = b , a\n",
    "print(a,b)"
   ]
  },
  {
   "cell_type": "code",
   "execution_count": null,
   "metadata": {},
   "outputs": [],
   "source": [
    "from typing import Dict ,Union,Optional\n",
    "import pprint\n",
    "keys : list[str] = [\"id\" ,\"name\",\"fname\",\"course\"] \n",
    "data : dict[key,Value] = {}\n",
    "print(data)"
   ]
  }
 ],
 "metadata": {
  "kernelspec": {
   "display_name": "Python 3",
   "language": "python",
   "name": "python3"
  },
  "language_info": {
   "codemirror_mode": {
    "name": "ipython",
    "version": 3
   },
   "file_extension": ".py",
   "mimetype": "text/x-python",
   "name": "python",
   "nbconvert_exporter": "python",
   "pygments_lexer": "ipython3",
   "version": "3.12.0"
  }
 },
 "nbformat": 4,
 "nbformat_minor": 2
}
