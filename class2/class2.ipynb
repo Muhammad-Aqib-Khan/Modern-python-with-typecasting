{
 "cells": [
  {
   "cell_type": "markdown",
   "metadata": {},
   "source": [
    "#String Data Type in Python"
   ]
  },
  {
   "cell_type": "code",
   "execution_count": 3,
   "metadata": {},
   "outputs": [
    {
     "name": "stdout",
     "output_type": "stream",
     "text": [
      "<class 'str'>\n"
     ]
    }
   ],
   "source": [
    "#boundries\n",
    "# \"string text \" ,'string text' ,'''string text ''' , \"\"\"string \"\"\"\n",
    "\n",
    "name : str = \"Muhammad aqib Khan\"\n",
    "print(type(name))\n",
    "print(name)"
   ]
  },
  {
   "cell_type": "code",
   "execution_count": 48,
   "metadata": {},
   "outputs": [
    {
     "name": "stdout",
     "output_type": "stream",
     "text": [
      "PIAIC Student Card \n",
      "Student Name:Muhammad aqib Khan\n",
      "Age:30\n",
      "education:Master In Data Science\n"
     ]
    }
   ],
   "source": [
    "#boundries\n",
    "# \"string text \" ,'string text' ,'''string text ''' , \"\"\"string \"\"\"\n",
    "\n",
    "name : str = \"Muhammad aqib Khan\"\n",
    "f_name : str = \"Muhammad Khan\"\n",
    "education : str = \"Master In Data Science\"\n",
    "age : int = 30\n",
    "\n",
    "card : str = \"PIAIC Student Card \\nStudent Name:\" + name + \"\\nAge:\" + str(age) +\"\\neducation:\" +education\n",
    "print(card)"
   ]
  },
  {
   "cell_type": "markdown",
   "metadata": {},
   "source": [
    "# Define Multiline string \"\"\" \"\"\"\n"
   ]
  },
  {
   "cell_type": "code",
   "execution_count": 52,
   "metadata": {},
   "outputs": [
    {
     "name": "stdout",
     "output_type": "stream",
     "text": [
      "\n",
      "Piaic Student Card \n",
      "Student Name : Muhammad aqib Khan\n",
      "Father Name : Muhammad Khan\n",
      "Age : 30\n",
      "Education :Master In Data Science\n",
      " \n",
      "\n",
      "\n"
     ]
    }
   ],
   "source": [
    "name : str = \"Muhammad aqib Khan\"\n",
    "f_name : str = \"Muhammad Khan\"\n",
    "education : str = \"Master In Data Science\"\n",
    "age : int = 30\n",
    "\n",
    "card : str = f\"\"\"\n",
    "Piaic Student Card \n",
    "Student Name : {name}\n",
    "Father Name : {f_name}\n",
    "Age : {age}\n",
    "Education :{education}\n",
    " \n",
    "\n",
    "\"\"\"\n",
    "print ( card)"
   ]
  },
  {
   "cell_type": "code",
   "execution_count": 56,
   "metadata": {},
   "outputs": [
    {
     "data": {
      "text/plain": [
       "['capitalize',\n",
       " 'casefold',\n",
       " 'center',\n",
       " 'count',\n",
       " 'encode',\n",
       " 'endswith',\n",
       " 'expandtabs',\n",
       " 'find',\n",
       " 'format',\n",
       " 'format_map',\n",
       " 'index',\n",
       " 'isalnum',\n",
       " 'isalpha',\n",
       " 'isascii',\n",
       " 'isdecimal',\n",
       " 'isdigit',\n",
       " 'isidentifier',\n",
       " 'islower',\n",
       " 'isnumeric',\n",
       " 'isprintable',\n",
       " 'isspace',\n",
       " 'istitle',\n",
       " 'isupper',\n",
       " 'join',\n",
       " 'ljust',\n",
       " 'lower',\n",
       " 'lstrip',\n",
       " 'maketrans',\n",
       " 'partition',\n",
       " 'removeprefix',\n",
       " 'removesuffix',\n",
       " 'replace',\n",
       " 'rfind',\n",
       " 'rindex',\n",
       " 'rjust',\n",
       " 'rpartition',\n",
       " 'rsplit',\n",
       " 'rstrip',\n",
       " 'split',\n",
       " 'splitlines',\n",
       " 'startswith',\n",
       " 'strip',\n",
       " 'swapcase',\n",
       " 'title',\n",
       " 'translate',\n",
       " 'upper',\n",
       " 'zfill']"
      ]
     },
     "execution_count": 56,
     "metadata": {},
     "output_type": "execute_result"
    }
   ],
   "source": [
    "[i for i in dir (str) if \"__\"not in  i]"
   ]
  },
  {
   "cell_type": "code",
   "execution_count": 15,
   "metadata": {},
   "outputs": [
    {
     "name": "stdout",
     "output_type": "stream",
     "text": [
      "Muhhammad aqib khan\n",
      "MUHHAMMAD AQIB KHAN\n"
     ]
    }
   ],
   "source": [
    "name : str = 'MuHHammAd AQiB KhAN'\n",
    "print(name.capitalize())\n",
    "print(name.upper())\n"
   ]
  },
  {
   "cell_type": "code",
   "execution_count": 16,
   "metadata": {},
   "outputs": [
    {
     "data": {
      "text/plain": [
       "'pakistan value a = 7 and value b = 9'"
      ]
     },
     "execution_count": 16,
     "metadata": {},
     "output_type": "execute_result"
    }
   ],
   "source": [
    "a = 7\n",
    "b = 9\n",
    "\"pakistan value a = {} and value b = {}\".format(a,b)"
   ]
  },
  {
   "cell_type": "code",
   "execution_count": 17,
   "metadata": {},
   "outputs": [
    {
     "name": "stdout",
     "output_type": "stream",
     "text": [
      "\n",
      "Piaic Student Card \n",
      "Student Name : Muhammad aqib Khan\n",
      "Father Name : Muhammad Khan\n",
      "Age : Master In Data Science\n",
      "Education :30\n",
      " \n"
     ]
    }
   ],
   "source": [
    "name : str = \"Muhammad aqib Khan\"\n",
    "f_name : str = \"Muhammad Khan\"\n",
    "education : str = \"Master In Data Science\"\n",
    "age : int = 30\n",
    "\n",
    "card : str = \"\"\"\n",
    "Piaic Student Card \n",
    "Student Name : {}\n",
    "Father Name : {}\n",
    "Age : {}\n",
    "Education :{}\n",
    " \"\"\".format(name , f_name, education, age)\n",
    "print ( card)"
   ]
  }
 ],
 "metadata": {
  "kernelspec": {
   "display_name": "python12",
   "language": "python",
   "name": "python3"
  },
  "language_info": {
   "codemirror_mode": {
    "name": "ipython",
    "version": 3
   },
   "file_extension": ".py",
   "mimetype": "text/x-python",
   "name": "python",
   "nbconvert_exporter": "python",
   "pygments_lexer": "ipython3",
   "version": "3.12.0"
  }
 },
 "nbformat": 4,
 "nbformat_minor": 2
}
