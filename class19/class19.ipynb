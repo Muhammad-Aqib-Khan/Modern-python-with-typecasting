{
 "cells": [
  {
   "cell_type": "code",
   "execution_count": 12,
   "metadata": {},
   "outputs": [
    {
     "data": {
      "text/html": [
       "<div>\n",
       "<style scoped>\n",
       "    .dataframe tbody tr th:only-of-type {\n",
       "        vertical-align: middle;\n",
       "    }\n",
       "\n",
       "    .dataframe tbody tr th {\n",
       "        vertical-align: top;\n",
       "    }\n",
       "\n",
       "    .dataframe thead th {\n",
       "        text-align: right;\n",
       "    }\n",
       "</style>\n",
       "<table border=\"1\" class=\"dataframe\">\n",
       "  <thead>\n",
       "    <tr style=\"text-align: right;\">\n",
       "      <th></th>\n",
       "      <th>roll_no</th>\n",
       "      <th>name</th>\n",
       "      <th>father_name</th>\n",
       "      <th>course</th>\n",
       "      <th>date_of_admission</th>\n",
       "      <th>fee</th>\n",
       "    </tr>\n",
       "  </thead>\n",
       "  <tbody>\n",
       "    <tr>\n",
       "      <th>0</th>\n",
       "      <td>1</td>\n",
       "      <td>John Doe</td>\n",
       "      <td>Michael Doe</td>\n",
       "      <td>Engineering</td>\n",
       "      <td>2023-09-01</td>\n",
       "      <td>5000</td>\n",
       "    </tr>\n",
       "    <tr>\n",
       "      <th>1</th>\n",
       "      <td>2</td>\n",
       "      <td>Jane Smith</td>\n",
       "      <td>Robert Smith</td>\n",
       "      <td>Medicine</td>\n",
       "      <td>2023-08-15</td>\n",
       "      <td>6000</td>\n",
       "    </tr>\n",
       "    <tr>\n",
       "      <th>2</th>\n",
       "      <td>3</td>\n",
       "      <td>Alice Johnson</td>\n",
       "      <td>David Johnson</td>\n",
       "      <td>Computer Science</td>\n",
       "      <td>2023-09-05</td>\n",
       "      <td>5500</td>\n",
       "    </tr>\n",
       "    <tr>\n",
       "      <th>3</th>\n",
       "      <td>4</td>\n",
       "      <td>Bob Brown</td>\n",
       "      <td>James Brown</td>\n",
       "      <td>Business Administration</td>\n",
       "      <td>2023-08-20</td>\n",
       "      <td>5200</td>\n",
       "    </tr>\n",
       "    <tr>\n",
       "      <th>4</th>\n",
       "      <td>5</td>\n",
       "      <td>Emily Wilson</td>\n",
       "      <td>Christopher Wilson</td>\n",
       "      <td>Psychology</td>\n",
       "      <td>2023-09-10</td>\n",
       "      <td>5300</td>\n",
       "    </tr>\n",
       "    <tr>\n",
       "      <th>5</th>\n",
       "      <td>6</td>\n",
       "      <td>David Lee</td>\n",
       "      <td>Daniel Lee</td>\n",
       "      <td>Architecture</td>\n",
       "      <td>2023-08-25</td>\n",
       "      <td>5800</td>\n",
       "    </tr>\n",
       "    <tr>\n",
       "      <th>6</th>\n",
       "      <td>7</td>\n",
       "      <td>Sophia Martinez</td>\n",
       "      <td>Jose Martinez</td>\n",
       "      <td>Education</td>\n",
       "      <td>2023-09-03</td>\n",
       "      <td>5100</td>\n",
       "    </tr>\n",
       "    <tr>\n",
       "      <th>7</th>\n",
       "      <td>8</td>\n",
       "      <td>Michael Clark</td>\n",
       "      <td>William Clark</td>\n",
       "      <td>Physics</td>\n",
       "      <td>2023-08-18</td>\n",
       "      <td>5400</td>\n",
       "    </tr>\n",
       "    <tr>\n",
       "      <th>8</th>\n",
       "      <td>9</td>\n",
       "      <td>Olivia Taylor</td>\n",
       "      <td>Richard Taylor</td>\n",
       "      <td>Mathematics</td>\n",
       "      <td>2023-09-07</td>\n",
       "      <td>5900</td>\n",
       "    </tr>\n",
       "    <tr>\n",
       "      <th>9</th>\n",
       "      <td>10</td>\n",
       "      <td>Daniel Rodriguez</td>\n",
       "      <td>Thomas Rodriguez</td>\n",
       "      <td>History</td>\n",
       "      <td>2023-08-30</td>\n",
       "      <td>5700</td>\n",
       "    </tr>\n",
       "  </tbody>\n",
       "</table>\n",
       "</div>"
      ],
      "text/plain": [
       "   roll_no              name         father_name                   course  \\\n",
       "0        1          John Doe         Michael Doe              Engineering   \n",
       "1        2        Jane Smith        Robert Smith                 Medicine   \n",
       "2        3     Alice Johnson       David Johnson         Computer Science   \n",
       "3        4         Bob Brown         James Brown  Business Administration   \n",
       "4        5      Emily Wilson  Christopher Wilson               Psychology   \n",
       "5        6         David Lee          Daniel Lee             Architecture   \n",
       "6        7   Sophia Martinez       Jose Martinez                Education   \n",
       "7        8     Michael Clark       William Clark                  Physics   \n",
       "8        9     Olivia Taylor      Richard Taylor              Mathematics   \n",
       "9       10  Daniel Rodriguez    Thomas Rodriguez                  History   \n",
       "\n",
       "  date_of_admission   fee  \n",
       "0        2023-09-01  5000  \n",
       "1        2023-08-15  6000  \n",
       "2        2023-09-05  5500  \n",
       "3        2023-08-20  5200  \n",
       "4        2023-09-10  5300  \n",
       "5        2023-08-25  5800  \n",
       "6        2023-09-03  5100  \n",
       "7        2023-08-18  5400  \n",
       "8        2023-09-07  5900  \n",
       "9        2023-08-30  5700  "
      ]
     },
     "metadata": {},
     "output_type": "display_data"
    },
    {
     "name": "stdout",
     "output_type": "stream",
     "text": [
      "roll_no                       int64\n",
      "name                         object\n",
      "father_name                  object\n",
      "course                       object\n",
      "date_of_admission    datetime64[ns]\n",
      "fee                           int64\n",
      "dtype: object\n"
     ]
    }
   ],
   "source": [
    "from datetime import date\n",
    "from typing import TypedDict\n",
    "import pandas as pd\n",
    "\n",
    "# Define a TypedDict for Student\n",
    "class Student(TypedDict):\n",
    "    roll_no: int\n",
    "    name: str\n",
    "    father_name: str\n",
    "    course: str\n",
    "    date_of_admission: date\n",
    "    fee: int\n",
    "\n",
    "# Sample data for 10 students\n",
    "students_data = [\n",
    "    {'roll_no': 1, 'name': 'John Doe', 'father_name': 'Michael Doe', 'course': 'Engineering', 'date_of_admission': date(2023, 9, 1), 'fee': 5000},\n",
    "    {'roll_no': 2, 'name': 'Jane Smith', 'father_name': 'Robert Smith', 'course': 'Medicine', 'date_of_admission': date(2023, 8, 15), 'fee': 6000},\n",
    "    {'roll_no': 3, 'name': 'Alice Johnson', 'father_name': 'David Johnson', 'course': 'Computer Science', 'date_of_admission': date(2023, 9, 5), 'fee': 5500},\n",
    "    {'roll_no': 4, 'name': 'Bob Brown', 'father_name': 'James Brown', 'course': 'Business Administration', 'date_of_admission': date(2023, 8, 20), 'fee': 5200},\n",
    "    {'roll_no': 5, 'name': 'Emily Wilson', 'father_name': 'Christopher Wilson', 'course': 'Psychology', 'date_of_admission': date(2023, 9, 10), 'fee': 5300},\n",
    "    {'roll_no': 6, 'name': 'David Lee', 'father_name': 'Daniel Lee', 'course': 'Architecture', 'date_of_admission': date(2023, 8, 25), 'fee': 5800},\n",
    "    {'roll_no': 7, 'name': 'Sophia Martinez', 'father_name': 'Jose Martinez', 'course': 'Education', 'date_of_admission': date(2023, 9, 3), 'fee': 5100},\n",
    "    {'roll_no': 8, 'name': 'Michael Clark', 'father_name': 'William Clark', 'course': 'Physics', 'date_of_admission': date(2023, 8, 18), 'fee': 5400},\n",
    "    {'roll_no': 9, 'name': 'Olivia Taylor', 'father_name': 'Richard Taylor', 'course': 'Mathematics', 'date_of_admission': date(2023, 9, 7), 'fee': 5900},\n",
    "    {'roll_no': 10, 'name': 'Daniel Rodriguez', 'father_name': 'Thomas Rodriguez', 'course': 'History', 'date_of_admission': date(2023, 8, 30), 'fee': 5700}\n",
    "]\n",
    "\n",
    "# Create DataFrame\n",
    "df :pd.DataFrame = pd.DataFrame(students_data)\n",
    "df[\"date_of_admission\"] = pd.to_datetime(df[\"date_of_admission\"])\n",
    "# Display the DataFrame\n",
    "display(df)\n",
    "\n",
    "print(df.dtypes)"
   ]
  },
  {
   "cell_type": "code",
   "execution_count": null,
   "metadata": {},
   "outputs": [],
   "source": []
  },
  {
   "cell_type": "code",
   "execution_count": 27,
   "metadata": {},
   "outputs": [
    {
     "data": {
      "text/html": [
       "<div>\n",
       "<style scoped>\n",
       "    .dataframe tbody tr th:only-of-type {\n",
       "        vertical-align: middle;\n",
       "    }\n",
       "\n",
       "    .dataframe tbody tr th {\n",
       "        vertical-align: top;\n",
       "    }\n",
       "\n",
       "    .dataframe thead th {\n",
       "        text-align: right;\n",
       "    }\n",
       "</style>\n",
       "<table border=\"1\" class=\"dataframe\">\n",
       "  <thead>\n",
       "    <tr style=\"text-align: right;\">\n",
       "      <th></th>\n",
       "      <th>roll_no</th>\n",
       "      <th>name</th>\n",
       "      <th>father_name</th>\n",
       "      <th>course</th>\n",
       "      <th>date_of_admission</th>\n",
       "      <th>fee</th>\n",
       "    </tr>\n",
       "  </thead>\n",
       "  <tbody>\n",
       "    <tr>\n",
       "      <th>0</th>\n",
       "      <td>1</td>\n",
       "      <td>John Doe</td>\n",
       "      <td>Michael Doe</td>\n",
       "      <td>Engineering</td>\n",
       "      <td>2023-09-01</td>\n",
       "      <td>5000</td>\n",
       "    </tr>\n",
       "    <tr>\n",
       "      <th>1</th>\n",
       "      <td>2</td>\n",
       "      <td>Jane Smith</td>\n",
       "      <td>Robert Smith</td>\n",
       "      <td>Medicine</td>\n",
       "      <td>2023-08-15</td>\n",
       "      <td>6000</td>\n",
       "    </tr>\n",
       "    <tr>\n",
       "      <th>2</th>\n",
       "      <td>3</td>\n",
       "      <td>Alice Johnson</td>\n",
       "      <td>David Johnson</td>\n",
       "      <td>Computer Science</td>\n",
       "      <td>2023-09-05</td>\n",
       "      <td>5500</td>\n",
       "    </tr>\n",
       "    <tr>\n",
       "      <th>3</th>\n",
       "      <td>4</td>\n",
       "      <td>Bob Brown</td>\n",
       "      <td>James Brown</td>\n",
       "      <td>Business Administration</td>\n",
       "      <td>2023-08-20</td>\n",
       "      <td>5200</td>\n",
       "    </tr>\n",
       "    <tr>\n",
       "      <th>4</th>\n",
       "      <td>5</td>\n",
       "      <td>Emily Wilson</td>\n",
       "      <td>Christopher Wilson</td>\n",
       "      <td>Engineering</td>\n",
       "      <td>2023-09-10</td>\n",
       "      <td>5300</td>\n",
       "    </tr>\n",
       "    <tr>\n",
       "      <th>5</th>\n",
       "      <td>6</td>\n",
       "      <td>David Lee</td>\n",
       "      <td>Daniel Lee</td>\n",
       "      <td>Architecture</td>\n",
       "      <td>2023-08-25</td>\n",
       "      <td>5800</td>\n",
       "    </tr>\n",
       "    <tr>\n",
       "      <th>6</th>\n",
       "      <td>7</td>\n",
       "      <td>Sophia Martinez</td>\n",
       "      <td>Jose Martinez</td>\n",
       "      <td>Engineering</td>\n",
       "      <td>2023-09-03</td>\n",
       "      <td>5100</td>\n",
       "    </tr>\n",
       "    <tr>\n",
       "      <th>7</th>\n",
       "      <td>8</td>\n",
       "      <td>Michael Clark</td>\n",
       "      <td>William Clark</td>\n",
       "      <td>Engineering</td>\n",
       "      <td>2023-08-18</td>\n",
       "      <td>5400</td>\n",
       "    </tr>\n",
       "    <tr>\n",
       "      <th>8</th>\n",
       "      <td>9</td>\n",
       "      <td>Olivia Taylor</td>\n",
       "      <td>Richard Taylor</td>\n",
       "      <td>Mathematics</td>\n",
       "      <td>2023-09-07</td>\n",
       "      <td>5900</td>\n",
       "    </tr>\n",
       "    <tr>\n",
       "      <th>9</th>\n",
       "      <td>10</td>\n",
       "      <td>Daniel Rodriguez</td>\n",
       "      <td>Thomas Rodriguez</td>\n",
       "      <td>History</td>\n",
       "      <td>2023-08-30</td>\n",
       "      <td>5700</td>\n",
       "    </tr>\n",
       "  </tbody>\n",
       "</table>\n",
       "</div>"
      ],
      "text/plain": [
       "   roll_no              name         father_name                   course  \\\n",
       "0        1          John Doe         Michael Doe              Engineering   \n",
       "1        2        Jane Smith        Robert Smith                 Medicine   \n",
       "2        3     Alice Johnson       David Johnson         Computer Science   \n",
       "3        4         Bob Brown         James Brown  Business Administration   \n",
       "4        5      Emily Wilson  Christopher Wilson              Engineering   \n",
       "5        6         David Lee          Daniel Lee             Architecture   \n",
       "6        7   Sophia Martinez       Jose Martinez              Engineering   \n",
       "7        8     Michael Clark       William Clark              Engineering   \n",
       "8        9     Olivia Taylor      Richard Taylor              Mathematics   \n",
       "9       10  Daniel Rodriguez    Thomas Rodriguez                  History   \n",
       "\n",
       "  date_of_admission   fee  \n",
       "0        2023-09-01  5000  \n",
       "1        2023-08-15  6000  \n",
       "2        2023-09-05  5500  \n",
       "3        2023-08-20  5200  \n",
       "4        2023-09-10  5300  \n",
       "5        2023-08-25  5800  \n",
       "6        2023-09-03  5100  \n",
       "7        2023-08-18  5400  \n",
       "8        2023-09-07  5900  \n",
       "9        2023-08-30  5700  "
      ]
     },
     "metadata": {},
     "output_type": "display_data"
    }
   ],
   "source": [
    "from datetime import date\n",
    "import pandas as pd\n",
    "import pandera as pa\n",
    "\n",
    "# Define the schema for the DataFrame\n",
    "student_schema = pa.DataFrameSchema({\n",
    "    'roll_no': pa.Column(pa.Int, required=True),\n",
    "    'name': pa.Column(pa.String, required=True),\n",
    "    'father_name': pa.Column(pa.String, required=True),\n",
    "    'course': pa.Column(pa.String, required=True),\n",
    "    'date_of_admission': pa.Column(pa.DateTime, required=True),\n",
    "    'fee': pa.Column(pa.Int, required=True)\n",
    "})\n",
    "\n",
    "# Sample data for 10 students\n",
    "students_data = [\n",
    "    {'roll_no': 1, 'name': 'John Doe', 'father_name': 'Michael Doe', 'course': 'Engineering', 'date_of_admission': pd.to_datetime('2023-09-01'), 'fee': 5000},\n",
    "    {'roll_no': 2, 'name': 'Jane Smith', 'father_name': 'Robert Smith', 'course': 'Medicine', 'date_of_admission': pd.to_datetime('2023-08-15'), 'fee': 6000},\n",
    "    {'roll_no': 3, 'name': 'Alice Johnson', 'father_name': 'David Johnson', 'course': 'Computer Science', 'date_of_admission': pd.to_datetime('2023-09-05'), 'fee': 5500},\n",
    "    {'roll_no': 4, 'name': 'Bob Brown', 'father_name': 'James Brown', 'course': 'Business Administration', 'date_of_admission': pd.to_datetime('2023-08-20'), 'fee': 5200},\n",
    "    {'roll_no': 5, 'name': 'Emily Wilson', 'father_name': 'Christopher Wilson', 'course':'Engineering', 'date_of_admission': pd.to_datetime('2023-09-10'), 'fee': 5300},\n",
    "    {'roll_no': 6, 'name': 'David Lee', 'father_name': 'Daniel Lee', 'course': 'Architecture', 'date_of_admission': pd.to_datetime('2023-08-25'), 'fee': 5800},\n",
    "    {'roll_no': 7, 'name': 'Sophia Martinez', 'father_name': 'Jose Martinez', 'course': 'Engineering', 'date_of_admission': pd.to_datetime('2023-09-03'), 'fee': 5100},\n",
    "    {'roll_no': 8, 'name': 'Michael Clark', 'father_name': 'William Clark', 'course': 'Engineering', 'date_of_admission': pd.to_datetime('2023-08-18'), 'fee': 5400},\n",
    "    {'roll_no': 9, 'name': 'Olivia Taylor', 'father_name': 'Richard Taylor', 'course': 'Mathematics', 'date_of_admission': pd.to_datetime('2023-09-07'), 'fee': 5900},\n",
    "    {'roll_no': 10, 'name': 'Daniel Rodriguez', 'father_name': 'Thomas Rodriguez', 'course': 'History', 'date_of_admission': pd.to_datetime('2023-08-30'), 'fee': 5700}\n",
    "]\n",
    "\n",
    "\n",
    "df = pd.DataFrame(students_data)\n",
    "df[\"date_of_admission\"] = pd.to_datetime(df[\"date_of_admission\"])\n",
    "\n",
    "validated_df = student_schema.validate(df)\n",
    "\n",
    "\n",
    "display(validated_df)\n"
   ]
  },
  {
   "cell_type": "code",
   "execution_count": 25,
   "metadata": {},
   "outputs": [
    {
     "data": {
      "text/html": [
       "<div>\n",
       "<style scoped>\n",
       "    .dataframe tbody tr th:only-of-type {\n",
       "        vertical-align: middle;\n",
       "    }\n",
       "\n",
       "    .dataframe tbody tr th {\n",
       "        vertical-align: top;\n",
       "    }\n",
       "\n",
       "    .dataframe thead th {\n",
       "        text-align: right;\n",
       "    }\n",
       "</style>\n",
       "<table border=\"1\" class=\"dataframe\">\n",
       "  <thead>\n",
       "    <tr style=\"text-align: right;\">\n",
       "      <th></th>\n",
       "      <th>roll_no</th>\n",
       "      <th>name</th>\n",
       "      <th>father_name</th>\n",
       "      <th>course</th>\n",
       "      <th>date_of_admission</th>\n",
       "      <th>fee</th>\n",
       "    </tr>\n",
       "  </thead>\n",
       "  <tbody>\n",
       "    <tr>\n",
       "      <th>0</th>\n",
       "      <td>1</td>\n",
       "      <td>John Doe</td>\n",
       "      <td>Michael Doe</td>\n",
       "      <td>Engineering</td>\n",
       "      <td>2023-09-01</td>\n",
       "      <td>5000</td>\n",
       "    </tr>\n",
       "  </tbody>\n",
       "</table>\n",
       "</div>"
      ],
      "text/plain": [
       "   roll_no      name  father_name       course date_of_admission   fee\n",
       "0        1  John Doe  Michael Doe  Engineering        2023-09-01  5000"
      ]
     },
     "execution_count": 25,
     "metadata": {},
     "output_type": "execute_result"
    }
   ],
   "source": [
    "df.head(1)"
   ]
  },
  {
   "cell_type": "code",
   "execution_count": 26,
   "metadata": {},
   "outputs": [
    {
     "data": {
      "text/plain": [
       "course\n",
       "Engineering                4\n",
       "Medicine                   1\n",
       "Computer Science           1\n",
       "Business Administration    1\n",
       "Architecture               1\n",
       "Mathematics                1\n",
       "History                    1\n",
       "Name: count, dtype: int64"
      ]
     },
     "execution_count": 26,
     "metadata": {},
     "output_type": "execute_result"
    }
   ],
   "source": [
    "df.course.value_counts()"
   ]
  },
  {
   "cell_type": "code",
   "execution_count": 36,
   "metadata": {},
   "outputs": [
    {
     "data": {
      "text/plain": [
       "course\n",
       "Engineering                40.0\n",
       "Medicine                   10.0\n",
       "Computer Science           10.0\n",
       "Business Administration    10.0\n",
       "Architecture               10.0\n",
       "Mathematics                10.0\n",
       "History                    10.0\n",
       "Name: proportion, dtype: float64"
      ]
     },
     "execution_count": 36,
     "metadata": {},
     "output_type": "execute_result"
    }
   ],
   "source": [
    "df.course.value_counts(dropna=False,normalize=True)*100"
   ]
  },
  {
   "cell_type": "code",
   "execution_count": 29,
   "metadata": {},
   "outputs": [
    {
     "data": {
      "text/html": [
       "<div>\n",
       "<style scoped>\n",
       "    .dataframe tbody tr th:only-of-type {\n",
       "        vertical-align: middle;\n",
       "    }\n",
       "\n",
       "    .dataframe tbody tr th {\n",
       "        vertical-align: top;\n",
       "    }\n",
       "\n",
       "    .dataframe thead th {\n",
       "        text-align: right;\n",
       "    }\n",
       "</style>\n",
       "<table border=\"1\" class=\"dataframe\">\n",
       "  <thead>\n",
       "    <tr style=\"text-align: right;\">\n",
       "      <th></th>\n",
       "      <th>roll_no</th>\n",
       "      <th>name</th>\n",
       "      <th>father_name</th>\n",
       "      <th>course</th>\n",
       "      <th>date_of_admission</th>\n",
       "      <th>fee</th>\n",
       "    </tr>\n",
       "  </thead>\n",
       "  <tbody>\n",
       "    <tr>\n",
       "      <th>0</th>\n",
       "      <td>1</td>\n",
       "      <td>John Doe</td>\n",
       "      <td>Michael Doe</td>\n",
       "      <td>Engineering</td>\n",
       "      <td>2023-09-01</td>\n",
       "      <td>5000</td>\n",
       "    </tr>\n",
       "    <tr>\n",
       "      <th>1</th>\n",
       "      <td>2</td>\n",
       "      <td>Jane Smith</td>\n",
       "      <td>Robert Smith</td>\n",
       "      <td>Medicine</td>\n",
       "      <td>2023-08-15</td>\n",
       "      <td>6000</td>\n",
       "    </tr>\n",
       "    <tr>\n",
       "      <th>2</th>\n",
       "      <td>3</td>\n",
       "      <td>Alice Johnson</td>\n",
       "      <td>David Johnson</td>\n",
       "      <td>Computer Science</td>\n",
       "      <td>2023-09-05</td>\n",
       "      <td>5500</td>\n",
       "    </tr>\n",
       "    <tr>\n",
       "      <th>3</th>\n",
       "      <td>4</td>\n",
       "      <td>Bob Brown</td>\n",
       "      <td>James Brown</td>\n",
       "      <td>Business Administration</td>\n",
       "      <td>2023-08-20</td>\n",
       "      <td>5200</td>\n",
       "    </tr>\n",
       "    <tr>\n",
       "      <th>4</th>\n",
       "      <td>5</td>\n",
       "      <td>Emily Wilson</td>\n",
       "      <td>Christopher Wilson</td>\n",
       "      <td>Engineering</td>\n",
       "      <td>2023-09-10</td>\n",
       "      <td>5300</td>\n",
       "    </tr>\n",
       "    <tr>\n",
       "      <th>5</th>\n",
       "      <td>6</td>\n",
       "      <td>David Lee</td>\n",
       "      <td>Daniel Lee</td>\n",
       "      <td>Architecture</td>\n",
       "      <td>2023-08-25</td>\n",
       "      <td>5800</td>\n",
       "    </tr>\n",
       "    <tr>\n",
       "      <th>6</th>\n",
       "      <td>7</td>\n",
       "      <td>Sophia Martinez</td>\n",
       "      <td>Jose Martinez</td>\n",
       "      <td>Engineering</td>\n",
       "      <td>2023-09-03</td>\n",
       "      <td>5100</td>\n",
       "    </tr>\n",
       "    <tr>\n",
       "      <th>7</th>\n",
       "      <td>8</td>\n",
       "      <td>Michael Clark</td>\n",
       "      <td>William Clark</td>\n",
       "      <td>Engineering</td>\n",
       "      <td>2023-08-18</td>\n",
       "      <td>5400</td>\n",
       "    </tr>\n",
       "    <tr>\n",
       "      <th>8</th>\n",
       "      <td>9</td>\n",
       "      <td>Olivia Taylor</td>\n",
       "      <td>Richard Taylor</td>\n",
       "      <td>Mathematics</td>\n",
       "      <td>2023-09-07</td>\n",
       "      <td>5900</td>\n",
       "    </tr>\n",
       "    <tr>\n",
       "      <th>9</th>\n",
       "      <td>10</td>\n",
       "      <td>Daniel Rodriguez</td>\n",
       "      <td>Thomas Rodriguez</td>\n",
       "      <td>History</td>\n",
       "      <td>2023-08-30</td>\n",
       "      <td>5700</td>\n",
       "    </tr>\n",
       "  </tbody>\n",
       "</table>\n",
       "</div>"
      ],
      "text/plain": [
       "   roll_no              name         father_name                   course  \\\n",
       "0        1          John Doe         Michael Doe              Engineering   \n",
       "1        2        Jane Smith        Robert Smith                 Medicine   \n",
       "2        3     Alice Johnson       David Johnson         Computer Science   \n",
       "3        4         Bob Brown         James Brown  Business Administration   \n",
       "4        5      Emily Wilson  Christopher Wilson              Engineering   \n",
       "5        6         David Lee          Daniel Lee             Architecture   \n",
       "6        7   Sophia Martinez       Jose Martinez              Engineering   \n",
       "7        8     Michael Clark       William Clark              Engineering   \n",
       "8        9     Olivia Taylor      Richard Taylor              Mathematics   \n",
       "9       10  Daniel Rodriguez    Thomas Rodriguez                  History   \n",
       "\n",
       "  date_of_admission   fee  \n",
       "0        2023-09-01  5000  \n",
       "1        2023-08-15  6000  \n",
       "2        2023-09-05  5500  \n",
       "3        2023-08-20  5200  \n",
       "4        2023-09-10  5300  \n",
       "5        2023-08-25  5800  \n",
       "6        2023-09-03  5100  \n",
       "7        2023-08-18  5400  \n",
       "8        2023-09-07  5900  \n",
       "9        2023-08-30  5700  "
      ]
     },
     "execution_count": 29,
     "metadata": {},
     "output_type": "execute_result"
    }
   ],
   "source": [
    "df"
   ]
  },
  {
   "cell_type": "code",
   "execution_count": 41,
   "metadata": {},
   "outputs": [
    {
     "data": {
      "text/plain": [
       "fee\n",
       "(5000, 6000]    9\n",
       "(4000, 5000]    1\n",
       "(100, 1000]     0\n",
       "(1000, 2000]    0\n",
       "(2000, 3000]    0\n",
       "(3000, 4000]    0\n",
       "(6000, 7000]    0\n",
       "(7000, 8000]    0\n",
       "Name: count, dtype: int64"
      ]
     },
     "execution_count": 41,
     "metadata": {},
     "output_type": "execute_result"
    }
   ],
   "source": [
    "pd.cut(df.fee,[100,1000,2000,3000,4000,5000,6000,7000,8000]).value_counts()"
   ]
  },
  {
   "cell_type": "code",
   "execution_count": 4,
   "metadata": {},
   "outputs": [
    {
     "data": {
      "text/html": [
       "<div>\n",
       "<style scoped>\n",
       "    .dataframe tbody tr th:only-of-type {\n",
       "        vertical-align: middle;\n",
       "    }\n",
       "\n",
       "    .dataframe tbody tr th {\n",
       "        vertical-align: top;\n",
       "    }\n",
       "\n",
       "    .dataframe thead th {\n",
       "        text-align: right;\n",
       "    }\n",
       "</style>\n",
       "<table border=\"1\" class=\"dataframe\">\n",
       "  <thead>\n",
       "    <tr style=\"text-align: right;\">\n",
       "      <th></th>\n",
       "      <th>roll_no</th>\n",
       "      <th>name</th>\n",
       "      <th>father_name</th>\n",
       "      <th>course</th>\n",
       "      <th>date_of_admission</th>\n",
       "      <th>fee</th>\n",
       "    </tr>\n",
       "  </thead>\n",
       "  <tbody>\n",
       "    <tr>\n",
       "      <th>0</th>\n",
       "      <td>1</td>\n",
       "      <td>John Doe</td>\n",
       "      <td>Michael Doe</td>\n",
       "      <td>Engineering</td>\n",
       "      <td>2023-09-01</td>\n",
       "      <td>5000</td>\n",
       "    </tr>\n",
       "    <tr>\n",
       "      <th>1</th>\n",
       "      <td>2</td>\n",
       "      <td>Jane Smith</td>\n",
       "      <td>Robert Smith</td>\n",
       "      <td>Medicine</td>\n",
       "      <td>2023-08-15</td>\n",
       "      <td>6000</td>\n",
       "    </tr>\n",
       "    <tr>\n",
       "      <th>2</th>\n",
       "      <td>3</td>\n",
       "      <td>Alice Johnson</td>\n",
       "      <td>David Johnson</td>\n",
       "      <td>Computer Science</td>\n",
       "      <td>2023-09-05</td>\n",
       "      <td>5500</td>\n",
       "    </tr>\n",
       "    <tr>\n",
       "      <th>3</th>\n",
       "      <td>4</td>\n",
       "      <td>Bob Brown</td>\n",
       "      <td>James Brown</td>\n",
       "      <td>Business Administration</td>\n",
       "      <td>2023-08-20</td>\n",
       "      <td>5200</td>\n",
       "    </tr>\n",
       "    <tr>\n",
       "      <th>4</th>\n",
       "      <td>5</td>\n",
       "      <td>Emily Wilson</td>\n",
       "      <td>Christopher Wilson</td>\n",
       "      <td>Engineering</td>\n",
       "      <td>2023-09-10</td>\n",
       "      <td>5300</td>\n",
       "    </tr>\n",
       "    <tr>\n",
       "      <th>5</th>\n",
       "      <td>6</td>\n",
       "      <td>David Lee</td>\n",
       "      <td>Daniel Lee</td>\n",
       "      <td>Architecture</td>\n",
       "      <td>2023-08-25</td>\n",
       "      <td>5800</td>\n",
       "    </tr>\n",
       "    <tr>\n",
       "      <th>6</th>\n",
       "      <td>7</td>\n",
       "      <td>Sophia Martinez</td>\n",
       "      <td>Jose Martinez</td>\n",
       "      <td>engineering</td>\n",
       "      <td>2023-09-03</td>\n",
       "      <td>5100</td>\n",
       "    </tr>\n",
       "    <tr>\n",
       "      <th>7</th>\n",
       "      <td>8</td>\n",
       "      <td>Michael Clark</td>\n",
       "      <td>William Clark</td>\n",
       "      <td>Engineering</td>\n",
       "      <td>2023-08-18</td>\n",
       "      <td>5400</td>\n",
       "    </tr>\n",
       "    <tr>\n",
       "      <th>8</th>\n",
       "      <td>9</td>\n",
       "      <td>Olivia Taylor</td>\n",
       "      <td>Richard Taylor</td>\n",
       "      <td>Mathematics</td>\n",
       "      <td>2023-09-07</td>\n",
       "      <td>5900</td>\n",
       "    </tr>\n",
       "    <tr>\n",
       "      <th>9</th>\n",
       "      <td>10</td>\n",
       "      <td>Daniel Rodriguez</td>\n",
       "      <td>Thomas Rodriguez</td>\n",
       "      <td>History</td>\n",
       "      <td>2023-08-30</td>\n",
       "      <td>5700</td>\n",
       "    </tr>\n",
       "  </tbody>\n",
       "</table>\n",
       "</div>"
      ],
      "text/plain": [
       "   roll_no              name         father_name                   course  \\\n",
       "0        1          John Doe         Michael Doe              Engineering   \n",
       "1        2        Jane Smith        Robert Smith                 Medicine   \n",
       "2        3     Alice Johnson       David Johnson         Computer Science   \n",
       "3        4         Bob Brown         James Brown  Business Administration   \n",
       "4        5      Emily Wilson  Christopher Wilson              Engineering   \n",
       "5        6         David Lee          Daniel Lee             Architecture   \n",
       "6        7   Sophia Martinez       Jose Martinez              engineering   \n",
       "7        8     Michael Clark       William Clark              Engineering   \n",
       "8        9     Olivia Taylor      Richard Taylor              Mathematics   \n",
       "9       10  Daniel Rodriguez    Thomas Rodriguez                  History   \n",
       "\n",
       "  date_of_admission   fee  \n",
       "0        2023-09-01  5000  \n",
       "1        2023-08-15  6000  \n",
       "2        2023-09-05  5500  \n",
       "3        2023-08-20  5200  \n",
       "4        2023-09-10  5300  \n",
       "5        2023-08-25  5800  \n",
       "6        2023-09-03  5100  \n",
       "7        2023-08-18  5400  \n",
       "8        2023-09-07  5900  \n",
       "9        2023-08-30  5700  "
      ]
     },
     "metadata": {},
     "output_type": "display_data"
    }
   ],
   "source": [
    "from datetime import date\n",
    "import pandas as pd\n",
    "import pandera as pa\n",
    "\n",
    "# Define the schema for the DataFrame\n",
    "student_schema = pa.DataFrameSchema({\n",
    "    'roll_no': pa.Column(pa.Int, required=True),\n",
    "    'name': pa.Column(pa.String, required=True),\n",
    "    'father_name': pa.Column(pa.String, required=True),\n",
    "    'course': pa.Column(pa.String, required=True),\n",
    "    'date_of_admission': pa.Column(pa.DateTime, required=True),\n",
    "    'fee': pa.Column(pa.Int, required=True)\n",
    "})\n",
    "\n",
    "# Sample data for 10 students\n",
    "students_data = [\n",
    "    {'roll_no': 1, 'name': 'John Doe', 'father_name': 'Michael Doe', 'course': 'Engineering', 'date_of_admission': pd.to_datetime('2023-09-01'), 'fee': 5000},\n",
    "    {'roll_no': 2, 'name': 'Jane Smith', 'father_name': 'Robert Smith', 'course': 'Medicine', 'date_of_admission': pd.to_datetime('2023-08-15'), 'fee': 6000},\n",
    "    {'roll_no': 3, 'name': 'Alice Johnson', 'father_name': 'David Johnson', 'course': 'Computer Science', 'date_of_admission': pd.to_datetime('2023-09-05'), 'fee': 5500},\n",
    "    {'roll_no': 4, 'name': 'Bob Brown', 'father_name': 'James Brown', 'course': 'Business Administration', 'date_of_admission': pd.to_datetime('2023-08-20'), 'fee': 5200},\n",
    "    {'roll_no': 5, 'name': 'Emily Wilson', 'father_name': 'Christopher Wilson', 'course':'Engineering', 'date_of_admission': pd.to_datetime('2023-09-10'), 'fee': 5300},\n",
    "    {'roll_no': 6, 'name': 'David Lee', 'father_name': 'Daniel Lee', 'course': 'Architecture', 'date_of_admission': pd.to_datetime('2023-08-25'), 'fee': 5800},\n",
    "    {'roll_no': 7, 'name': 'Sophia Martinez', 'father_name': 'Jose Martinez', 'course': 'engineering', 'date_of_admission': pd.to_datetime('2023-09-03'), 'fee': 5100},\n",
    "    {'roll_no': 8, 'name': 'Michael Clark', 'father_name': 'William Clark', 'course': 'Engineering', 'date_of_admission': pd.to_datetime('2023-08-18'), 'fee': 5400},\n",
    "    {'roll_no': 9, 'name': 'Olivia Taylor', 'father_name': 'Richard Taylor', 'course': 'Mathematics', 'date_of_admission': pd.to_datetime('2023-09-07'), 'fee': 5900},\n",
    "    {'roll_no': 10, 'name': 'Daniel Rodriguez', 'father_name': 'Thomas Rodriguez', 'course': 'History', 'date_of_admission': pd.to_datetime('2023-08-30'), 'fee': 5700}\n",
    "]\n",
    "\n",
    "\n",
    "df = pd.DataFrame(students_data)\n",
    "df[\"date_of_admission\"] = pd.to_datetime(df[\"date_of_admission\"])\n",
    "\n",
    "validated_df = student_schema.validate(df)\n",
    "\n",
    "\n",
    "display(validated_df)\n"
   ]
  },
  {
   "cell_type": "code",
   "execution_count": 5,
   "metadata": {},
   "outputs": [
    {
     "data": {
      "text/plain": [
       "0     True\n",
       "1    False\n",
       "2    False\n",
       "3    False\n",
       "4     True\n",
       "5    False\n",
       "6     True\n",
       "7     True\n",
       "8    False\n",
       "9    False\n",
       "Name: course, dtype: bool"
      ]
     },
     "execution_count": 5,
     "metadata": {},
     "output_type": "execute_result"
    }
   ],
   "source": [
    "df[\"course\"].str.lower()==\"engineering\""
   ]
  },
  {
   "cell_type": "code",
   "execution_count": 6,
   "metadata": {},
   "outputs": [
    {
     "data": {
      "text/html": [
       "<div>\n",
       "<style scoped>\n",
       "    .dataframe tbody tr th:only-of-type {\n",
       "        vertical-align: middle;\n",
       "    }\n",
       "\n",
       "    .dataframe tbody tr th {\n",
       "        vertical-align: top;\n",
       "    }\n",
       "\n",
       "    .dataframe thead th {\n",
       "        text-align: right;\n",
       "    }\n",
       "</style>\n",
       "<table border=\"1\" class=\"dataframe\">\n",
       "  <thead>\n",
       "    <tr style=\"text-align: right;\">\n",
       "      <th></th>\n",
       "      <th>roll_no</th>\n",
       "      <th>name</th>\n",
       "      <th>father_name</th>\n",
       "      <th>course</th>\n",
       "      <th>date_of_admission</th>\n",
       "      <th>fee</th>\n",
       "    </tr>\n",
       "  </thead>\n",
       "  <tbody>\n",
       "    <tr>\n",
       "      <th>0</th>\n",
       "      <td>1</td>\n",
       "      <td>John Doe</td>\n",
       "      <td>Michael Doe</td>\n",
       "      <td>Engineering</td>\n",
       "      <td>2023-09-01</td>\n",
       "      <td>5000</td>\n",
       "    </tr>\n",
       "    <tr>\n",
       "      <th>4</th>\n",
       "      <td>5</td>\n",
       "      <td>Emily Wilson</td>\n",
       "      <td>Christopher Wilson</td>\n",
       "      <td>Engineering</td>\n",
       "      <td>2023-09-10</td>\n",
       "      <td>5300</td>\n",
       "    </tr>\n",
       "    <tr>\n",
       "      <th>6</th>\n",
       "      <td>7</td>\n",
       "      <td>Sophia Martinez</td>\n",
       "      <td>Jose Martinez</td>\n",
       "      <td>engineering</td>\n",
       "      <td>2023-09-03</td>\n",
       "      <td>5100</td>\n",
       "    </tr>\n",
       "    <tr>\n",
       "      <th>7</th>\n",
       "      <td>8</td>\n",
       "      <td>Michael Clark</td>\n",
       "      <td>William Clark</td>\n",
       "      <td>Engineering</td>\n",
       "      <td>2023-08-18</td>\n",
       "      <td>5400</td>\n",
       "    </tr>\n",
       "  </tbody>\n",
       "</table>\n",
       "</div>"
      ],
      "text/plain": [
       "   roll_no             name         father_name       course  \\\n",
       "0        1         John Doe         Michael Doe  Engineering   \n",
       "4        5     Emily Wilson  Christopher Wilson  Engineering   \n",
       "6        7  Sophia Martinez       Jose Martinez  engineering   \n",
       "7        8    Michael Clark       William Clark  Engineering   \n",
       "\n",
       "  date_of_admission   fee  \n",
       "0        2023-09-01  5000  \n",
       "4        2023-09-10  5300  \n",
       "6        2023-09-03  5100  \n",
       "7        2023-08-18  5400  "
      ]
     },
     "execution_count": 6,
     "metadata": {},
     "output_type": "execute_result"
    }
   ],
   "source": [
    "df[df[\"course\"].str.lower()==\"engineering\"]"
   ]
  },
  {
   "cell_type": "code",
   "execution_count": 7,
   "metadata": {},
   "outputs": [
    {
     "data": {
      "text/plain": [
       "0    9\n",
       "1    8\n",
       "2    9\n",
       "3    8\n",
       "4    9\n",
       "5    8\n",
       "6    9\n",
       "7    8\n",
       "8    9\n",
       "9    8\n",
       "Name: date_of_admission, dtype: int32"
      ]
     },
     "execution_count": 7,
     "metadata": {},
     "output_type": "execute_result"
    }
   ],
   "source": [
    "df[\"date_of_admission\"].dt.year\n",
    "df[\"date_of_admission\"].dt.month"
   ]
  },
  {
   "cell_type": "code",
   "execution_count": null,
   "metadata": {},
   "outputs": [],
   "source": []
  },
  {
   "cell_type": "code",
   "execution_count": 8,
   "metadata": {},
   "outputs": [
    {
     "data": {
      "text/plain": [
       "['ceil',\n",
       " 'date',\n",
       " 'day',\n",
       " 'dayofweek',\n",
       " 'dayofyear',\n",
       " 'daysinmonth',\n",
       " 'floor',\n",
       " 'freq',\n",
       " 'hour',\n",
       " 'isocalendar',\n",
       " 'microsecond',\n",
       " 'minute',\n",
       " 'month',\n",
       " 'nanosecond',\n",
       " 'normalize',\n",
       " 'quarter',\n",
       " 'round',\n",
       " 'second',\n",
       " 'strftime',\n",
       " 'time',\n",
       " 'timetz',\n",
       " 'tz',\n",
       " 'unit',\n",
       " 'weekday',\n",
       " 'year']"
      ]
     },
     "execution_count": 8,
     "metadata": {},
     "output_type": "execute_result"
    }
   ],
   "source": [
    "[i for i in  dir(df[\"date_of_admission\"].dt) if \"_\" not in i]"
   ]
  },
  {
   "cell_type": "code",
   "execution_count": 79,
   "metadata": {},
   "outputs": [
    {
     "data": {
      "text/plain": [
       "datetime.datetime(2024, 3, 22, 22, 37, 35, 177119)"
      ]
     },
     "execution_count": 79,
     "metadata": {},
     "output_type": "execute_result"
    }
   ],
   "source": [
    "from datetime import  datetime\n",
    "time : datetime = datetime.now()\n",
    "time\n"
   ]
  },
  {
   "cell_type": "code",
   "execution_count": 83,
   "metadata": {},
   "outputs": [
    {
     "data": {
      "text/plain": [
       "0   2024-03-22 22:37:35.177119\n",
       "dtype: datetime64[ns]"
      ]
     },
     "execution_count": 83,
     "metadata": {},
     "output_type": "execute_result"
    }
   ],
   "source": [
    "s1 : pd.Series = pd.Series([time])\n",
    "s1"
   ]
  },
  {
   "cell_type": "code",
   "execution_count": 9,
   "metadata": {},
   "outputs": [
    {
     "data": {
      "text/html": [
       "<div>\n",
       "<style scoped>\n",
       "    .dataframe tbody tr th:only-of-type {\n",
       "        vertical-align: middle;\n",
       "    }\n",
       "\n",
       "    .dataframe tbody tr th {\n",
       "        vertical-align: top;\n",
       "    }\n",
       "\n",
       "    .dataframe thead th {\n",
       "        text-align: right;\n",
       "    }\n",
       "</style>\n",
       "<table border=\"1\" class=\"dataframe\">\n",
       "  <thead>\n",
       "    <tr style=\"text-align: right;\">\n",
       "      <th></th>\n",
       "      <th>roll_no</th>\n",
       "      <th>name</th>\n",
       "      <th>father_name</th>\n",
       "      <th>course</th>\n",
       "      <th>date_of_admission</th>\n",
       "      <th>fee</th>\n",
       "    </tr>\n",
       "  </thead>\n",
       "  <tbody>\n",
       "    <tr>\n",
       "      <th>0</th>\n",
       "      <td>1</td>\n",
       "      <td>John Doe</td>\n",
       "      <td>Michael Doe</td>\n",
       "      <td>Engineering</td>\n",
       "      <td>2023-09-01</td>\n",
       "      <td>5000</td>\n",
       "    </tr>\n",
       "    <tr>\n",
       "      <th>1</th>\n",
       "      <td>2</td>\n",
       "      <td>Jane Smith</td>\n",
       "      <td>Robert Smith</td>\n",
       "      <td>Medicine</td>\n",
       "      <td>2023-08-15</td>\n",
       "      <td>6000</td>\n",
       "    </tr>\n",
       "    <tr>\n",
       "      <th>2</th>\n",
       "      <td>3</td>\n",
       "      <td>Alice Johnson</td>\n",
       "      <td>David Johnson</td>\n",
       "      <td>Computer Science</td>\n",
       "      <td>2023-09-05</td>\n",
       "      <td>5500</td>\n",
       "    </tr>\n",
       "    <tr>\n",
       "      <th>3</th>\n",
       "      <td>4</td>\n",
       "      <td>Bob Brown</td>\n",
       "      <td>James Brown</td>\n",
       "      <td>Business Administration</td>\n",
       "      <td>2023-08-20</td>\n",
       "      <td>5200</td>\n",
       "    </tr>\n",
       "    <tr>\n",
       "      <th>4</th>\n",
       "      <td>5</td>\n",
       "      <td>Emily Wilson</td>\n",
       "      <td>Christopher Wilson</td>\n",
       "      <td>Engineering</td>\n",
       "      <td>2023-09-10</td>\n",
       "      <td>5300</td>\n",
       "    </tr>\n",
       "    <tr>\n",
       "      <th>5</th>\n",
       "      <td>6</td>\n",
       "      <td>David Lee</td>\n",
       "      <td>Daniel Lee</td>\n",
       "      <td>Architecture</td>\n",
       "      <td>2023-08-25</td>\n",
       "      <td>5800</td>\n",
       "    </tr>\n",
       "    <tr>\n",
       "      <th>6</th>\n",
       "      <td>7</td>\n",
       "      <td>Sophia Martinez</td>\n",
       "      <td>Jose Martinez</td>\n",
       "      <td>engineering</td>\n",
       "      <td>2023-09-03</td>\n",
       "      <td>5100</td>\n",
       "    </tr>\n",
       "    <tr>\n",
       "      <th>7</th>\n",
       "      <td>8</td>\n",
       "      <td>Michael Clark</td>\n",
       "      <td>William Clark</td>\n",
       "      <td>Engineering</td>\n",
       "      <td>2023-08-18</td>\n",
       "      <td>5400</td>\n",
       "    </tr>\n",
       "    <tr>\n",
       "      <th>8</th>\n",
       "      <td>9</td>\n",
       "      <td>Olivia Taylor</td>\n",
       "      <td>Richard Taylor</td>\n",
       "      <td>Mathematics</td>\n",
       "      <td>2023-09-07</td>\n",
       "      <td>5900</td>\n",
       "    </tr>\n",
       "    <tr>\n",
       "      <th>9</th>\n",
       "      <td>10</td>\n",
       "      <td>Daniel Rodriguez</td>\n",
       "      <td>Thomas Rodriguez</td>\n",
       "      <td>History</td>\n",
       "      <td>2023-08-30</td>\n",
       "      <td>5700</td>\n",
       "    </tr>\n",
       "  </tbody>\n",
       "</table>\n",
       "</div>"
      ],
      "text/plain": [
       "   roll_no              name         father_name                   course  \\\n",
       "0        1          John Doe         Michael Doe              Engineering   \n",
       "1        2        Jane Smith        Robert Smith                 Medicine   \n",
       "2        3     Alice Johnson       David Johnson         Computer Science   \n",
       "3        4         Bob Brown         James Brown  Business Administration   \n",
       "4        5      Emily Wilson  Christopher Wilson              Engineering   \n",
       "5        6         David Lee          Daniel Lee             Architecture   \n",
       "6        7   Sophia Martinez       Jose Martinez              engineering   \n",
       "7        8     Michael Clark       William Clark              Engineering   \n",
       "8        9     Olivia Taylor      Richard Taylor              Mathematics   \n",
       "9       10  Daniel Rodriguez    Thomas Rodriguez                  History   \n",
       "\n",
       "  date_of_admission   fee  \n",
       "0        2023-09-01  5000  \n",
       "1        2023-08-15  6000  \n",
       "2        2023-09-05  5500  \n",
       "3        2023-08-20  5200  \n",
       "4        2023-09-10  5300  \n",
       "5        2023-08-25  5800  \n",
       "6        2023-09-03  5100  \n",
       "7        2023-08-18  5400  \n",
       "8        2023-09-07  5900  \n",
       "9        2023-08-30  5700  "
      ]
     },
     "execution_count": 9,
     "metadata": {},
     "output_type": "execute_result"
    }
   ],
   "source": [
    "df"
   ]
  },
  {
   "cell_type": "code",
   "execution_count": 10,
   "metadata": {},
   "outputs": [
    {
     "data": {
      "text/plain": [
       "<pandas.core.groupby.generic.DataFrameGroupBy object at 0x000001DF606E8C50>"
      ]
     },
     "execution_count": 10,
     "metadata": {},
     "output_type": "execute_result"
    }
   ],
   "source": [
    "df.groupby([\"course\"])\n"
   ]
  },
  {
   "cell_type": "code",
   "execution_count": 11,
   "metadata": {},
   "outputs": [
    {
     "data": {
      "text/plain": [
       "(('Architecture',),\n",
       "    roll_no       name father_name        course date_of_admission   fee\n",
       " 5        6  David Lee  Daniel Lee  Architecture        2023-08-25  5800)"
      ]
     },
     "execution_count": 11,
     "metadata": {},
     "output_type": "execute_result"
    }
   ],
   "source": [
    "list(df.groupby([\"course\"]))[0]"
   ]
  },
  {
   "cell_type": "code",
   "execution_count": 12,
   "metadata": {},
   "outputs": [
    {
     "data": {
      "text/plain": [
       "('Architecture',)"
      ]
     },
     "metadata": {},
     "output_type": "display_data"
    },
    {
     "data": {
      "text/html": [
       "<div>\n",
       "<style scoped>\n",
       "    .dataframe tbody tr th:only-of-type {\n",
       "        vertical-align: middle;\n",
       "    }\n",
       "\n",
       "    .dataframe tbody tr th {\n",
       "        vertical-align: top;\n",
       "    }\n",
       "\n",
       "    .dataframe thead th {\n",
       "        text-align: right;\n",
       "    }\n",
       "</style>\n",
       "<table border=\"1\" class=\"dataframe\">\n",
       "  <thead>\n",
       "    <tr style=\"text-align: right;\">\n",
       "      <th></th>\n",
       "      <th>roll_no</th>\n",
       "      <th>name</th>\n",
       "      <th>father_name</th>\n",
       "      <th>course</th>\n",
       "      <th>date_of_admission</th>\n",
       "      <th>fee</th>\n",
       "    </tr>\n",
       "  </thead>\n",
       "  <tbody>\n",
       "    <tr>\n",
       "      <th>5</th>\n",
       "      <td>6</td>\n",
       "      <td>David Lee</td>\n",
       "      <td>Daniel Lee</td>\n",
       "      <td>Architecture</td>\n",
       "      <td>2023-08-25</td>\n",
       "      <td>5800</td>\n",
       "    </tr>\n",
       "  </tbody>\n",
       "</table>\n",
       "</div>"
      ],
      "text/plain": [
       "   roll_no       name father_name        course date_of_admission   fee\n",
       "5        6  David Lee  Daniel Lee  Architecture        2023-08-25  5800"
      ]
     },
     "metadata": {},
     "output_type": "display_data"
    },
    {
     "name": "stdout",
     "output_type": "stream",
     "text": [
      "=======================================================\n"
     ]
    },
    {
     "data": {
      "text/plain": [
       "('Business Administration',)"
      ]
     },
     "metadata": {},
     "output_type": "display_data"
    },
    {
     "data": {
      "text/html": [
       "<div>\n",
       "<style scoped>\n",
       "    .dataframe tbody tr th:only-of-type {\n",
       "        vertical-align: middle;\n",
       "    }\n",
       "\n",
       "    .dataframe tbody tr th {\n",
       "        vertical-align: top;\n",
       "    }\n",
       "\n",
       "    .dataframe thead th {\n",
       "        text-align: right;\n",
       "    }\n",
       "</style>\n",
       "<table border=\"1\" class=\"dataframe\">\n",
       "  <thead>\n",
       "    <tr style=\"text-align: right;\">\n",
       "      <th></th>\n",
       "      <th>roll_no</th>\n",
       "      <th>name</th>\n",
       "      <th>father_name</th>\n",
       "      <th>course</th>\n",
       "      <th>date_of_admission</th>\n",
       "      <th>fee</th>\n",
       "    </tr>\n",
       "  </thead>\n",
       "  <tbody>\n",
       "    <tr>\n",
       "      <th>3</th>\n",
       "      <td>4</td>\n",
       "      <td>Bob Brown</td>\n",
       "      <td>James Brown</td>\n",
       "      <td>Business Administration</td>\n",
       "      <td>2023-08-20</td>\n",
       "      <td>5200</td>\n",
       "    </tr>\n",
       "  </tbody>\n",
       "</table>\n",
       "</div>"
      ],
      "text/plain": [
       "   roll_no       name  father_name                   course date_of_admission  \\\n",
       "3        4  Bob Brown  James Brown  Business Administration        2023-08-20   \n",
       "\n",
       "    fee  \n",
       "3  5200  "
      ]
     },
     "metadata": {},
     "output_type": "display_data"
    },
    {
     "name": "stdout",
     "output_type": "stream",
     "text": [
      "=======================================================\n"
     ]
    },
    {
     "data": {
      "text/plain": [
       "('Computer Science',)"
      ]
     },
     "metadata": {},
     "output_type": "display_data"
    },
    {
     "data": {
      "text/html": [
       "<div>\n",
       "<style scoped>\n",
       "    .dataframe tbody tr th:only-of-type {\n",
       "        vertical-align: middle;\n",
       "    }\n",
       "\n",
       "    .dataframe tbody tr th {\n",
       "        vertical-align: top;\n",
       "    }\n",
       "\n",
       "    .dataframe thead th {\n",
       "        text-align: right;\n",
       "    }\n",
       "</style>\n",
       "<table border=\"1\" class=\"dataframe\">\n",
       "  <thead>\n",
       "    <tr style=\"text-align: right;\">\n",
       "      <th></th>\n",
       "      <th>roll_no</th>\n",
       "      <th>name</th>\n",
       "      <th>father_name</th>\n",
       "      <th>course</th>\n",
       "      <th>date_of_admission</th>\n",
       "      <th>fee</th>\n",
       "    </tr>\n",
       "  </thead>\n",
       "  <tbody>\n",
       "    <tr>\n",
       "      <th>2</th>\n",
       "      <td>3</td>\n",
       "      <td>Alice Johnson</td>\n",
       "      <td>David Johnson</td>\n",
       "      <td>Computer Science</td>\n",
       "      <td>2023-09-05</td>\n",
       "      <td>5500</td>\n",
       "    </tr>\n",
       "  </tbody>\n",
       "</table>\n",
       "</div>"
      ],
      "text/plain": [
       "   roll_no           name    father_name            course date_of_admission  \\\n",
       "2        3  Alice Johnson  David Johnson  Computer Science        2023-09-05   \n",
       "\n",
       "    fee  \n",
       "2  5500  "
      ]
     },
     "metadata": {},
     "output_type": "display_data"
    },
    {
     "name": "stdout",
     "output_type": "stream",
     "text": [
      "=======================================================\n"
     ]
    },
    {
     "data": {
      "text/plain": [
       "('Engineering',)"
      ]
     },
     "metadata": {},
     "output_type": "display_data"
    },
    {
     "data": {
      "text/html": [
       "<div>\n",
       "<style scoped>\n",
       "    .dataframe tbody tr th:only-of-type {\n",
       "        vertical-align: middle;\n",
       "    }\n",
       "\n",
       "    .dataframe tbody tr th {\n",
       "        vertical-align: top;\n",
       "    }\n",
       "\n",
       "    .dataframe thead th {\n",
       "        text-align: right;\n",
       "    }\n",
       "</style>\n",
       "<table border=\"1\" class=\"dataframe\">\n",
       "  <thead>\n",
       "    <tr style=\"text-align: right;\">\n",
       "      <th></th>\n",
       "      <th>roll_no</th>\n",
       "      <th>name</th>\n",
       "      <th>father_name</th>\n",
       "      <th>course</th>\n",
       "      <th>date_of_admission</th>\n",
       "      <th>fee</th>\n",
       "    </tr>\n",
       "  </thead>\n",
       "  <tbody>\n",
       "    <tr>\n",
       "      <th>0</th>\n",
       "      <td>1</td>\n",
       "      <td>John Doe</td>\n",
       "      <td>Michael Doe</td>\n",
       "      <td>Engineering</td>\n",
       "      <td>2023-09-01</td>\n",
       "      <td>5000</td>\n",
       "    </tr>\n",
       "    <tr>\n",
       "      <th>4</th>\n",
       "      <td>5</td>\n",
       "      <td>Emily Wilson</td>\n",
       "      <td>Christopher Wilson</td>\n",
       "      <td>Engineering</td>\n",
       "      <td>2023-09-10</td>\n",
       "      <td>5300</td>\n",
       "    </tr>\n",
       "    <tr>\n",
       "      <th>7</th>\n",
       "      <td>8</td>\n",
       "      <td>Michael Clark</td>\n",
       "      <td>William Clark</td>\n",
       "      <td>Engineering</td>\n",
       "      <td>2023-08-18</td>\n",
       "      <td>5400</td>\n",
       "    </tr>\n",
       "  </tbody>\n",
       "</table>\n",
       "</div>"
      ],
      "text/plain": [
       "   roll_no           name         father_name       course date_of_admission  \\\n",
       "0        1       John Doe         Michael Doe  Engineering        2023-09-01   \n",
       "4        5   Emily Wilson  Christopher Wilson  Engineering        2023-09-10   \n",
       "7        8  Michael Clark       William Clark  Engineering        2023-08-18   \n",
       "\n",
       "    fee  \n",
       "0  5000  \n",
       "4  5300  \n",
       "7  5400  "
      ]
     },
     "metadata": {},
     "output_type": "display_data"
    },
    {
     "name": "stdout",
     "output_type": "stream",
     "text": [
      "=======================================================\n"
     ]
    },
    {
     "data": {
      "text/plain": [
       "('History',)"
      ]
     },
     "metadata": {},
     "output_type": "display_data"
    },
    {
     "data": {
      "text/html": [
       "<div>\n",
       "<style scoped>\n",
       "    .dataframe tbody tr th:only-of-type {\n",
       "        vertical-align: middle;\n",
       "    }\n",
       "\n",
       "    .dataframe tbody tr th {\n",
       "        vertical-align: top;\n",
       "    }\n",
       "\n",
       "    .dataframe thead th {\n",
       "        text-align: right;\n",
       "    }\n",
       "</style>\n",
       "<table border=\"1\" class=\"dataframe\">\n",
       "  <thead>\n",
       "    <tr style=\"text-align: right;\">\n",
       "      <th></th>\n",
       "      <th>roll_no</th>\n",
       "      <th>name</th>\n",
       "      <th>father_name</th>\n",
       "      <th>course</th>\n",
       "      <th>date_of_admission</th>\n",
       "      <th>fee</th>\n",
       "    </tr>\n",
       "  </thead>\n",
       "  <tbody>\n",
       "    <tr>\n",
       "      <th>9</th>\n",
       "      <td>10</td>\n",
       "      <td>Daniel Rodriguez</td>\n",
       "      <td>Thomas Rodriguez</td>\n",
       "      <td>History</td>\n",
       "      <td>2023-08-30</td>\n",
       "      <td>5700</td>\n",
       "    </tr>\n",
       "  </tbody>\n",
       "</table>\n",
       "</div>"
      ],
      "text/plain": [
       "   roll_no              name       father_name   course date_of_admission  \\\n",
       "9       10  Daniel Rodriguez  Thomas Rodriguez  History        2023-08-30   \n",
       "\n",
       "    fee  \n",
       "9  5700  "
      ]
     },
     "metadata": {},
     "output_type": "display_data"
    },
    {
     "name": "stdout",
     "output_type": "stream",
     "text": [
      "=======================================================\n"
     ]
    },
    {
     "data": {
      "text/plain": [
       "('Mathematics',)"
      ]
     },
     "metadata": {},
     "output_type": "display_data"
    },
    {
     "data": {
      "text/html": [
       "<div>\n",
       "<style scoped>\n",
       "    .dataframe tbody tr th:only-of-type {\n",
       "        vertical-align: middle;\n",
       "    }\n",
       "\n",
       "    .dataframe tbody tr th {\n",
       "        vertical-align: top;\n",
       "    }\n",
       "\n",
       "    .dataframe thead th {\n",
       "        text-align: right;\n",
       "    }\n",
       "</style>\n",
       "<table border=\"1\" class=\"dataframe\">\n",
       "  <thead>\n",
       "    <tr style=\"text-align: right;\">\n",
       "      <th></th>\n",
       "      <th>roll_no</th>\n",
       "      <th>name</th>\n",
       "      <th>father_name</th>\n",
       "      <th>course</th>\n",
       "      <th>date_of_admission</th>\n",
       "      <th>fee</th>\n",
       "    </tr>\n",
       "  </thead>\n",
       "  <tbody>\n",
       "    <tr>\n",
       "      <th>8</th>\n",
       "      <td>9</td>\n",
       "      <td>Olivia Taylor</td>\n",
       "      <td>Richard Taylor</td>\n",
       "      <td>Mathematics</td>\n",
       "      <td>2023-09-07</td>\n",
       "      <td>5900</td>\n",
       "    </tr>\n",
       "  </tbody>\n",
       "</table>\n",
       "</div>"
      ],
      "text/plain": [
       "   roll_no           name     father_name       course date_of_admission   fee\n",
       "8        9  Olivia Taylor  Richard Taylor  Mathematics        2023-09-07  5900"
      ]
     },
     "metadata": {},
     "output_type": "display_data"
    },
    {
     "name": "stdout",
     "output_type": "stream",
     "text": [
      "=======================================================\n"
     ]
    },
    {
     "data": {
      "text/plain": [
       "('Medicine',)"
      ]
     },
     "metadata": {},
     "output_type": "display_data"
    },
    {
     "data": {
      "text/html": [
       "<div>\n",
       "<style scoped>\n",
       "    .dataframe tbody tr th:only-of-type {\n",
       "        vertical-align: middle;\n",
       "    }\n",
       "\n",
       "    .dataframe tbody tr th {\n",
       "        vertical-align: top;\n",
       "    }\n",
       "\n",
       "    .dataframe thead th {\n",
       "        text-align: right;\n",
       "    }\n",
       "</style>\n",
       "<table border=\"1\" class=\"dataframe\">\n",
       "  <thead>\n",
       "    <tr style=\"text-align: right;\">\n",
       "      <th></th>\n",
       "      <th>roll_no</th>\n",
       "      <th>name</th>\n",
       "      <th>father_name</th>\n",
       "      <th>course</th>\n",
       "      <th>date_of_admission</th>\n",
       "      <th>fee</th>\n",
       "    </tr>\n",
       "  </thead>\n",
       "  <tbody>\n",
       "    <tr>\n",
       "      <th>1</th>\n",
       "      <td>2</td>\n",
       "      <td>Jane Smith</td>\n",
       "      <td>Robert Smith</td>\n",
       "      <td>Medicine</td>\n",
       "      <td>2023-08-15</td>\n",
       "      <td>6000</td>\n",
       "    </tr>\n",
       "  </tbody>\n",
       "</table>\n",
       "</div>"
      ],
      "text/plain": [
       "   roll_no        name   father_name    course date_of_admission   fee\n",
       "1        2  Jane Smith  Robert Smith  Medicine        2023-08-15  6000"
      ]
     },
     "metadata": {},
     "output_type": "display_data"
    },
    {
     "name": "stdout",
     "output_type": "stream",
     "text": [
      "=======================================================\n"
     ]
    },
    {
     "data": {
      "text/plain": [
       "('engineering',)"
      ]
     },
     "metadata": {},
     "output_type": "display_data"
    },
    {
     "data": {
      "text/html": [
       "<div>\n",
       "<style scoped>\n",
       "    .dataframe tbody tr th:only-of-type {\n",
       "        vertical-align: middle;\n",
       "    }\n",
       "\n",
       "    .dataframe tbody tr th {\n",
       "        vertical-align: top;\n",
       "    }\n",
       "\n",
       "    .dataframe thead th {\n",
       "        text-align: right;\n",
       "    }\n",
       "</style>\n",
       "<table border=\"1\" class=\"dataframe\">\n",
       "  <thead>\n",
       "    <tr style=\"text-align: right;\">\n",
       "      <th></th>\n",
       "      <th>roll_no</th>\n",
       "      <th>name</th>\n",
       "      <th>father_name</th>\n",
       "      <th>course</th>\n",
       "      <th>date_of_admission</th>\n",
       "      <th>fee</th>\n",
       "    </tr>\n",
       "  </thead>\n",
       "  <tbody>\n",
       "    <tr>\n",
       "      <th>6</th>\n",
       "      <td>7</td>\n",
       "      <td>Sophia Martinez</td>\n",
       "      <td>Jose Martinez</td>\n",
       "      <td>engineering</td>\n",
       "      <td>2023-09-03</td>\n",
       "      <td>5100</td>\n",
       "    </tr>\n",
       "  </tbody>\n",
       "</table>\n",
       "</div>"
      ],
      "text/plain": [
       "   roll_no             name    father_name       course date_of_admission  \\\n",
       "6        7  Sophia Martinez  Jose Martinez  engineering        2023-09-03   \n",
       "\n",
       "    fee  \n",
       "6  5100  "
      ]
     },
     "metadata": {},
     "output_type": "display_data"
    },
    {
     "name": "stdout",
     "output_type": "stream",
     "text": [
      "=======================================================\n"
     ]
    }
   ],
   "source": [
    "for group in list(df.groupby([\"course\"])):\n",
    "    display(group[0])\n",
    "    display(group[1])\n",
    "    print(\"=======================================================\")"
   ]
  },
  {
   "cell_type": "code",
   "execution_count": 95,
   "metadata": {},
   "outputs": [
    {
     "data": {
      "text/plain": [
       "('August',)"
      ]
     },
     "metadata": {},
     "output_type": "display_data"
    },
    {
     "data": {
      "text/html": [
       "<div>\n",
       "<style scoped>\n",
       "    .dataframe tbody tr th:only-of-type {\n",
       "        vertical-align: middle;\n",
       "    }\n",
       "\n",
       "    .dataframe tbody tr th {\n",
       "        vertical-align: top;\n",
       "    }\n",
       "\n",
       "    .dataframe thead th {\n",
       "        text-align: right;\n",
       "    }\n",
       "</style>\n",
       "<table border=\"1\" class=\"dataframe\">\n",
       "  <thead>\n",
       "    <tr style=\"text-align: right;\">\n",
       "      <th></th>\n",
       "      <th>roll_no</th>\n",
       "      <th>name</th>\n",
       "      <th>father_name</th>\n",
       "      <th>course</th>\n",
       "      <th>date_of_admission</th>\n",
       "      <th>fee</th>\n",
       "    </tr>\n",
       "  </thead>\n",
       "  <tbody>\n",
       "    <tr>\n",
       "      <th>1</th>\n",
       "      <td>2</td>\n",
       "      <td>Jane Smith</td>\n",
       "      <td>Robert Smith</td>\n",
       "      <td>Medicine</td>\n",
       "      <td>2023-08-15</td>\n",
       "      <td>6000</td>\n",
       "    </tr>\n",
       "    <tr>\n",
       "      <th>3</th>\n",
       "      <td>4</td>\n",
       "      <td>Bob Brown</td>\n",
       "      <td>James Brown</td>\n",
       "      <td>Business Administration</td>\n",
       "      <td>2023-08-20</td>\n",
       "      <td>5200</td>\n",
       "    </tr>\n",
       "    <tr>\n",
       "      <th>5</th>\n",
       "      <td>6</td>\n",
       "      <td>David Lee</td>\n",
       "      <td>Daniel Lee</td>\n",
       "      <td>Architecture</td>\n",
       "      <td>2023-08-25</td>\n",
       "      <td>5800</td>\n",
       "    </tr>\n",
       "    <tr>\n",
       "      <th>7</th>\n",
       "      <td>8</td>\n",
       "      <td>Michael Clark</td>\n",
       "      <td>William Clark</td>\n",
       "      <td>Engineering</td>\n",
       "      <td>2023-08-18</td>\n",
       "      <td>5400</td>\n",
       "    </tr>\n",
       "    <tr>\n",
       "      <th>9</th>\n",
       "      <td>10</td>\n",
       "      <td>Daniel Rodriguez</td>\n",
       "      <td>Thomas Rodriguez</td>\n",
       "      <td>History</td>\n",
       "      <td>2023-08-30</td>\n",
       "      <td>5700</td>\n",
       "    </tr>\n",
       "  </tbody>\n",
       "</table>\n",
       "</div>"
      ],
      "text/plain": [
       "   roll_no              name       father_name                   course  \\\n",
       "1        2        Jane Smith      Robert Smith                 Medicine   \n",
       "3        4         Bob Brown       James Brown  Business Administration   \n",
       "5        6         David Lee        Daniel Lee             Architecture   \n",
       "7        8     Michael Clark     William Clark              Engineering   \n",
       "9       10  Daniel Rodriguez  Thomas Rodriguez                  History   \n",
       "\n",
       "  date_of_admission   fee  \n",
       "1        2023-08-15  6000  \n",
       "3        2023-08-20  5200  \n",
       "5        2023-08-25  5800  \n",
       "7        2023-08-18  5400  \n",
       "9        2023-08-30  5700  "
      ]
     },
     "metadata": {},
     "output_type": "display_data"
    },
    {
     "name": "stdout",
     "output_type": "stream",
     "text": [
      "=======================================================\n"
     ]
    },
    {
     "data": {
      "text/plain": [
       "('September',)"
      ]
     },
     "metadata": {},
     "output_type": "display_data"
    },
    {
     "data": {
      "text/html": [
       "<div>\n",
       "<style scoped>\n",
       "    .dataframe tbody tr th:only-of-type {\n",
       "        vertical-align: middle;\n",
       "    }\n",
       "\n",
       "    .dataframe tbody tr th {\n",
       "        vertical-align: top;\n",
       "    }\n",
       "\n",
       "    .dataframe thead th {\n",
       "        text-align: right;\n",
       "    }\n",
       "</style>\n",
       "<table border=\"1\" class=\"dataframe\">\n",
       "  <thead>\n",
       "    <tr style=\"text-align: right;\">\n",
       "      <th></th>\n",
       "      <th>roll_no</th>\n",
       "      <th>name</th>\n",
       "      <th>father_name</th>\n",
       "      <th>course</th>\n",
       "      <th>date_of_admission</th>\n",
       "      <th>fee</th>\n",
       "    </tr>\n",
       "  </thead>\n",
       "  <tbody>\n",
       "    <tr>\n",
       "      <th>0</th>\n",
       "      <td>1</td>\n",
       "      <td>John Doe</td>\n",
       "      <td>Michael Doe</td>\n",
       "      <td>Engineering</td>\n",
       "      <td>2023-09-01</td>\n",
       "      <td>5000</td>\n",
       "    </tr>\n",
       "    <tr>\n",
       "      <th>2</th>\n",
       "      <td>3</td>\n",
       "      <td>Alice Johnson</td>\n",
       "      <td>David Johnson</td>\n",
       "      <td>Computer Science</td>\n",
       "      <td>2023-09-05</td>\n",
       "      <td>5500</td>\n",
       "    </tr>\n",
       "    <tr>\n",
       "      <th>4</th>\n",
       "      <td>5</td>\n",
       "      <td>Emily Wilson</td>\n",
       "      <td>Christopher Wilson</td>\n",
       "      <td>Engineering</td>\n",
       "      <td>2023-09-10</td>\n",
       "      <td>5300</td>\n",
       "    </tr>\n",
       "    <tr>\n",
       "      <th>6</th>\n",
       "      <td>7</td>\n",
       "      <td>Sophia Martinez</td>\n",
       "      <td>Jose Martinez</td>\n",
       "      <td>engineering</td>\n",
       "      <td>2023-09-03</td>\n",
       "      <td>5100</td>\n",
       "    </tr>\n",
       "    <tr>\n",
       "      <th>8</th>\n",
       "      <td>9</td>\n",
       "      <td>Olivia Taylor</td>\n",
       "      <td>Richard Taylor</td>\n",
       "      <td>Mathematics</td>\n",
       "      <td>2023-09-07</td>\n",
       "      <td>5900</td>\n",
       "    </tr>\n",
       "  </tbody>\n",
       "</table>\n",
       "</div>"
      ],
      "text/plain": [
       "   roll_no             name         father_name            course  \\\n",
       "0        1         John Doe         Michael Doe       Engineering   \n",
       "2        3    Alice Johnson       David Johnson  Computer Science   \n",
       "4        5     Emily Wilson  Christopher Wilson       Engineering   \n",
       "6        7  Sophia Martinez       Jose Martinez       engineering   \n",
       "8        9    Olivia Taylor      Richard Taylor       Mathematics   \n",
       "\n",
       "  date_of_admission   fee  \n",
       "0        2023-09-01  5000  \n",
       "2        2023-09-05  5500  \n",
       "4        2023-09-10  5300  \n",
       "6        2023-09-03  5100  \n",
       "8        2023-09-07  5900  "
      ]
     },
     "metadata": {},
     "output_type": "display_data"
    },
    {
     "name": "stdout",
     "output_type": "stream",
     "text": [
      "=======================================================\n"
     ]
    }
   ],
   "source": [
    "for group in list(df.groupby([df[\"date_of_admission\"].dt.strftime(\"%B\")])):\n",
    "    display(group[0])\n",
    "    display(group[1])\n",
    "    print(\"=======================================================\")"
   ]
  },
  {
   "cell_type": "code",
   "execution_count": 14,
   "metadata": {},
   "outputs": [
    {
     "name": "stderr",
     "output_type": "stream",
     "text": [
      "Matplotlib is building the font cache; this may take a moment.\n"
     ]
    },
    {
     "data": {
      "text/plain": [
       "<Axes: xlabel='course'>"
      ]
     },
     "execution_count": 14,
     "metadata": {},
     "output_type": "execute_result"
    },
    {
     "data": {
      "image/png": "[encoded data removed]",
      "text/plain": [
       "<Figure size 640x480 with 1 Axes>"
      ]
     },
     "metadata": {},
     "output_type": "display_data"
    }
   ],
   "source": [
    "df.course.value_counts().plot()"
   ]
  },
  {
   "cell_type": "code",
   "execution_count": 17,
   "metadata": {},
   "outputs": [
    {
     "data": {
      "text/plain": [
       "<Axes: xlabel='date_of_admission'>"
      ]
     },
     "execution_count": 17,
     "metadata": {},
     "output_type": "execute_result"
    },
    {
     "data": {
      "image/png": "[encoded data removed]",
      "text/plain": [
       "<Figure size 640x480 with 1 Axes>"
      ]
     },
     "metadata": {},
     "output_type": "display_data"
    }
   ],
   "source": [
    "df.course.value_counts().plot(kind=\"bar\")"
   ]
  },
  {
   "cell_type": "code",
   "execution_count": 28,
   "metadata": {},
   "outputs": [
    {
     "data": {
      "text/plain": [
       "<Axes: ylabel='proportion'>"
      ]
     },
     "execution_count": 28,
     "metadata": {},
     "output_type": "execute_result"
    },
    {
     "data": {
      "image/png": "[encoded data removed]",
      "text/plain": [
       "<Figure size 640x480 with 1 Axes>"
      ]
     },
     "metadata": {},
     "output_type": "display_data"
    }
   ],
   "source": [
    "df.course.value_counts(normalize=True).plot(kind=\"pie\")"
   ]
  },
  {
   "cell_type": "code",
   "execution_count": 1,
   "metadata": {},
   "outputs": [
    {
     "name": "stdout",
     "output_type": "stream",
     "text": [
      "11.5\n"
     ]
    }
   ],
   "source": [
    "a : bool = True #boolean True value is equal to 1  \n",
    "b : float = 10.5\n",
    "c=a+b\n",
    "print(c)"
   ]
  },
  {
   "cell_type": "code",
   "execution_count": null,
   "metadata": {},
   "outputs": [],
   "source": []
  }
 ],
 "metadata": {
  "kernelspec": {
   "display_name": "python12",
   "language": "python",
   "name": "python3"
  },
  "language_info": {
   "codemirror_mode": {
    "name": "ipython",
    "version": 3
   },
   "file_extension": ".py",
   "mimetype": "text/x-python",
   "name": "python",
   "nbconvert_exporter": "python",
   "pygments_lexer": "ipython3",
   "version": "3.12.0"
  }
 },
 "nbformat": 4,
 "nbformat_minor": 2
}
