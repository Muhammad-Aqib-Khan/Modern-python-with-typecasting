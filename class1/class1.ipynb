{
 "cells": [
  {
   "cell_type": "markdown",
   "metadata": {},
   "source": [
    "# i have just started python\n"
   ]
  },
  {
   "cell_type": "code",
   "execution_count": 1,
   "metadata": {},
   "outputs": [
    {
     "name": "stdout",
     "output_type": "stream",
     "text": [
      "hello world\n"
     ]
    }
   ],
   "source": [
    "print(\"hello world\")"
   ]
  },
  {
   "cell_type": "code",
   "execution_count": 1,
   "metadata": {},
   "outputs": [
    {
     "name": "stdout",
     "output_type": "stream",
     "text": [
      "pakistan\n",
      "zindabad\n",
      "zindabad\n",
      "zindabad\n",
      "end this type sof the annotation\n",
      "['aqib'] ['khan']\n"
     ]
    }
   ],
   "source": [
    "print(\"pakistan\")\n",
    "print(\"zindabad\")\n",
    "print (\"zindabad\")\n",
    "print(\"zindabad\")\n",
    "print(\"end this type sof the annotation\")\n",
    "print([\"aqib\"],[\"khan\"])"
   ]
  },
  {
   "cell_type": "code",
   "execution_count": 1,
   "metadata": {},
   "outputs": [
    {
     "name": "stdout",
     "output_type": "stream",
     "text": [
      "This is Muhammad Aqib Khan starting my first python program\n",
      "pakistan\n",
      "zinda bad\n"
     ]
    }
   ],
   "source": [
    "print(\"This is Muhammad Aqib Khan starting my first python program\")     \n",
    "print('pakistan')    \n",
    "print(\"zinda bad\")  \n",
    "                                     "
   ]
  },
  {
   "cell_type": "markdown",
   "metadata": {},
   "source": [
    "#String\n"
   ]
  },
  {
   "cell_type": "code",
   "execution_count": 2,
   "metadata": {},
   "outputs": [
    {
     "name": "stdout",
     "output_type": "stream",
     "text": [
      "700\n",
      "<class 'int'>\n",
      "2112792473264\n"
     ]
    }
   ],
   "source": [
    "name=\"aqib khan\"\n",
    "name=700\n",
    "print(name)\n",
    "print(type(name))\n",
    "print(id(name))"
   ]
  }
 ],
 "metadata": {
  "kernelspec": {
   "display_name": "Python 3",
   "language": "python",
   "name": "python3"
  },
  "language_info": {
   "codemirror_mode": {
    "name": "ipython",
    "version": 3
   },
   "file_extension": ".py",
   "mimetype": "text/x-python",
   "name": "python",
   "nbconvert_exporter": "python",
   "pygments_lexer": "ipython3",
   "version": "3.12.0"
  }
 },
 "nbformat": 4,
 "nbformat_minor": 2
}
