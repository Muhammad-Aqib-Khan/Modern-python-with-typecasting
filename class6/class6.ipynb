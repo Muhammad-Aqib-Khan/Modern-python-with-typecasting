{
 "cells": [
  {
   "cell_type": "markdown",
   "metadata": {},
   "source": [
    "# If else elif\n",
    "if logic:\n",
    "    True_block\n",
    "    else: \n",
    "    False_block\n",
    "\n",
    "## comprehensive if-else"
   ]
  },
  {
   "cell_type": "code",
   "execution_count": null,
   "metadata": {},
   "outputs": [],
   "source": [
    "print(\"pakistan Zinda Bad\") if True else print(\"Hello world\")"
   ]
  },
  {
   "cell_type": "code",
   "execution_count": null,
   "metadata": {},
   "outputs": [],
   "source": [
    "from typing import Union\n",
    "\n",
    "per : Union[int , float] = 89.0\n",
    "grade : str = None\n",
    "if per >= 80\n",
    "print(grade)\n"
   ]
  },
  {
   "cell_type": "markdown",
   "metadata": {},
   "source": [
    "#comparision Operators\n",
    "* ==\n",
    "* >=\n",
    "* <="
   ]
  },
  {
   "cell_type": "code",
   "execution_count": null,
   "metadata": {},
   "outputs": [],
   "source": [
    "from typing import Union\n",
    "per = int(input(\"Enter Your percentage:\\t\"))\n",
    "grade : Union[str ,None] = None\n",
    "\n",
    "if per >= 80 :\n",
    "    grade =\"+A\"\n",
    "elif per >= 70 :\n",
    "    grade = \"A\"\n",
    "elif per >= 60 :\n",
    "    grade = \"B\"\n",
    "elif per >= 50 :\n",
    "    grade = \"C\" \n",
    "else :\n",
    "    grade = \"Fail\"\n",
    "\n",
    "print(f\"Your percentage is {per }  and your grade {grade}\")\n"
   ]
  },
  {
   "cell_type": "code",
   "execution_count": null,
   "metadata": {},
   "outputs": [],
   "source": [
    "from typing import Union\n",
    "\n",
    "perType = Union[float , int]\n",
    "percentage : list[perType] = [88.6 , 99.9,50,55,65]\n",
    "grades : list[str] = []\n",
    "\n",
    "for per in percentage :\n",
    "    grade : str = \"\"\n",
    "    if per >= 80 :\n",
    "        grade = \"+A\"\n",
    "    elif per >= 70 :\n",
    "        grade = \"A\"\n",
    "    elif per >= 60 :\n",
    "        grade = \"B\"\n",
    "    elif per >= 50 :\n",
    "        grade = \"C\" \n",
    "    else :\n",
    "        grade = \"Fail\"\n",
    "    grades.append(grade)\n",
    "print(percentage)\n",
    "print( grades)"
   ]
  },
  {
   "cell_type": "code",
   "execution_count": null,
   "metadata": {},
   "outputs": [],
   "source": [
    "zip(percentage, grades)"
   ]
  },
  {
   "cell_type": "code",
   "execution_count": null,
   "metadata": {},
   "outputs": [],
   "source": [
    " list(zip(percentage, grades))"
   ]
  },
  {
   "cell_type": "code",
   "execution_count": null,
   "metadata": {},
   "outputs": [],
   "source": [
    "roll_no : list[int] = list(range(len(percentage)))\n",
    "print(roll_no)\n",
    "\n",
    "data_base : list[int] = list(zip(roll_no , percentage ,grades))"
   ]
  },
  {
   "cell_type": "code",
   "execution_count": null,
   "metadata": {},
   "outputs": [],
   "source": [
    "display(data_base)\n",
    "sorted(data_base , key = lambda x:x[1])"
   ]
  },
  {
   "cell_type": "code",
   "execution_count": null,
   "metadata": {},
   "outputs": [],
   "source": [
    "display(data_base)\n",
    "sorted(data_base , key=lambda x:x[1], reverse=False)"
   ]
  },
  {
   "cell_type": "code",
   "execution_count": null,
   "metadata": {},
   "outputs": [],
   "source": [
    "cars : list [str] = [\"audi\",\"bmw\", \"subaru\" ,\" toyata\"]\n",
    "for car in cars :\n",
    "    if car == \"bmw\" :\n",
    "        print(car.upper())\n",
    "    else :\n",
    "        print(car.title())"
   ]
  },
  {
   "cell_type": "code",
   "execution_count": null,
   "metadata": {},
   "outputs": [],
   "source": [
    "cars : list [str] = [\"audi\",\"bmw\", \"subaru\" ,\" toyata\"]\n",
    "[i.upper() if i==\"bmw\" else i.title() for i in cars]"
   ]
  },
  {
   "cell_type": "code",
   "execution_count": null,
   "metadata": {},
   "outputs": [],
   "source": [
    "cars : list [str] = [\"audi\",\"bmw\", \"subaru\" ,\" toyata\",\"ferari\",\"Suzuki\"]\n",
    "\"Suzuki\" in cars"
   ]
  },
  {
   "cell_type": "code",
   "execution_count": null,
   "metadata": {},
   "outputs": [],
   "source": [
    "requested_toppings : list[str] = ['mushrooms', 'french fries', 'extra cheese']\n",
    "\n",
    "if\"mushrooms\" in requested_toppings :\n",
    "    print(\"adding mushrooms\")\n",
    "\n",
    "if \"extra cheese\" :\n",
    "    print(\"adding extra cheese\")\n",
    "if \"french friesessss\" in requested_toppings :\n",
    "    print(\"this is wrong so this is not working \")\n",
    "    \n",
    "print(\"\\nFinished making your pizza!\")"
   ]
  },
  {
   "cell_type": "code",
   "execution_count": null,
   "metadata": {},
   "outputs": [],
   "source": [
    "available_toppings : list[str] = ['mushrooms', 'olives', 'green peppers',\n",
    " 'pepperoni', 'pineapple', 'extra cheese']\n",
    "requested_toppings : list[str] = ['mushrooms', 'french fries', 'extra cheese']\n",
    "\n",
    "for requested_topping in requested_toppings:\n",
    "    if requested_topping in available_toppings:\n",
    "        print(f\"Adding {requested_topping}.\")\n",
    "    else:\n",
    "        print(f\"Sorry, we don't have {requested_topping}.\")\n"
   ]
  },
  {
   "cell_type": "code",
   "execution_count": 3,
   "metadata": {},
   "outputs": [
    {
     "ename": "NameError",
     "evalue": "name 'user_input' is not defined",
     "output_type": "error",
     "traceback": [
      "\u001b[1;31m---------------------------------------------------------------------------\u001b[0m",
      "\u001b[1;31mNameError\u001b[0m                                 Traceback (most recent call last)",
      "Cell \u001b[1;32mIn[3], line 6\u001b[0m\n\u001b[0;32m      3\u001b[0m user_input : \u001b[38;5;28minput\u001b[39m(\u001b[38;5;124m\"\u001b[39m\u001b[38;5;124mEnter Your Name\u001b[39m\u001b[38;5;124m\"\u001b[39m) \n\u001b[0;32m      4\u001b[0m \u001b[38;5;28;01mfor\u001b[39;00m user_database \u001b[38;5;129;01min\u001b[39;00m user_databases :\n\u001b[1;32m----> 6\u001b[0m     \u001b[38;5;28;01mif\u001b[39;00m \u001b[43muser_input\u001b[49m\u001b[38;5;241m==\u001b[39m\u001b[38;5;124m\"\u001b[39m\u001b[38;5;124mTayyab Khan\u001b[39m\u001b[38;5;124m\"\u001b[39m :\n\u001b[0;32m      7\u001b[0m         \u001b[38;5;28mprint\u001b[39m(\u001b[38;5;124m\"\u001b[39m\u001b[38;5;124mis our valid user\u001b[39m\u001b[38;5;124m\"\u001b[39m)\n\u001b[0;32m      8\u001b[0m     \u001b[38;5;28;01melif\u001b[39;00m user_input \u001b[38;5;241m==\u001b[39m \u001b[38;5;124m\"\u001b[39m\u001b[38;5;124mM aqib khan\u001b[39m\u001b[38;5;124m\"\u001b[39m :\n",
      "\u001b[1;31mNameError\u001b[0m: name 'user_input' is not defined"
     ]
    }
   ],
   "source": [
    "user_databases : list[str] = [\"M aqib khan\" , \"Tayyab Khan\" ,'Zunaira Amin']\n",
    "\n",
    "user_input : input(\"Enter Your Name\") \n",
    "for user_database in user_databases :\n",
    "\n",
    "    if user_input==\"Tayyab Khan\" :\n",
    "        print(\"is our valid user\")\n",
    "    elif user_input == \"M aqib khan\" :\n",
    "        print(\"is our developer this is most dangerous \")\n",
    "    elif user_input == \"Zunaira Amin\" :\n",
    "        print(\"is newly registered customer\")\n",
    "    else : \n",
    "        print(\" invalid user\")\n",
    "\n",
    "\n",
    "\n"
   ]
  }
 ],
 "metadata": {
  "kernelspec": {
   "display_name": "python12",
   "language": "python",
   "name": "python3"
  },
  "language_info": {
   "codemirror_mode": {
    "name": "ipython",
    "version": 3
   },
   "file_extension": ".py",
   "mimetype": "text/x-python",
   "name": "python",
   "nbconvert_exporter": "python",
   "pygments_lexer": "ipython3",
   "version": "3.12.0"
  }
 },
 "nbformat": 4,
 "nbformat_minor": 2
}
