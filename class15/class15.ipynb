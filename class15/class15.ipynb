{
 "cells": [
  {
   "cell_type": "code",
   "execution_count": 15,
   "metadata": {},
   "outputs": [
    {
     "name": "stdout",
     "output_type": "stream",
     "text": [
      " 0800\n"
     ]
    }
   ],
   "source": [
    "class Piaic():\n",
    "    def __init__(self)->None:\n",
    "        self.piaic_help : str = \" 0800\"\n",
    "        self._total_expense : int = 7500\n",
    "        self.__test_annoucement : str = \"5Nov 2023 \"\n",
    "      \n",
    "      \n",
    "Aqib_khan : Piaic = Piaic()\n",
    "print(Aqib_khan.piaic_help)\n",
    "    "
   ]
  },
  {
   "cell_type": "code",
   "execution_count": 16,
   "metadata": {},
   "outputs": [
    {
     "ename": "AttributeError",
     "evalue": "'Piaic' object has no attribute '__test_annoucement'",
     "output_type": "error",
     "traceback": [
      "\u001b[1;31m---------------------------------------------------------------------------\u001b[0m",
      "\u001b[1;31mAttributeError\u001b[0m                            Traceback (most recent call last)",
      "Cell \u001b[1;32mIn[16], line 1\u001b[0m\n\u001b[1;32m----> 1\u001b[0m \u001b[43mAqib_khan\u001b[49m\u001b[38;5;241;43m.\u001b[39;49m\u001b[43m__test_annoucement\u001b[49m\n",
      "\u001b[1;31mAttributeError\u001b[0m: 'Piaic' object has no attribute '__test_annoucement'"
     ]
    }
   ],
   "source": [
    "Aqib_khan.__test_annoucement"
   ]
  },
  {
   "cell_type": "code",
   "execution_count": 20,
   "metadata": {},
   "outputs": [
    {
     "data": {
      "text/plain": [
       "'5Nov 2023 '"
      ]
     },
     "execution_count": 20,
     "metadata": {},
     "output_type": "execute_result"
    }
   ],
   "source": [
    "Aqib_khan._Piaic__test_annoucement"
   ]
  },
  {
   "cell_type": "code",
   "execution_count": null,
   "metadata": {},
   "outputs": [],
   "source": [
    "class Student():\n",
    "    def __init__(self)->None :\n",
    "        self.__username : str = \"Admin\"\n",
    "        self.__paswor : str = \"Admin\"\n",
    "        \n",
    "        \n",
    "    def __dbconnectivity(self):\n",
    "        print(\"database connectivity successful\")"
   ]
  }
 ],
 "metadata": {
  "kernelspec": {
   "display_name": "python12",
   "language": "python",
   "name": "python3"
  },
  "language_info": {
   "codemirror_mode": {
    "name": "ipython",
    "version": 3
   },
   "file_extension": ".py",
   "mimetype": "text/x-python",
   "name": "python",
   "nbconvert_exporter": "python",
   "pygments_lexer": "ipython3",
   "version": "3.12.0"
  }
 },
 "nbformat": 4,
 "nbformat_minor": 2
}
