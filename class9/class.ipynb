{
 "cells": [
  {
   "cell_type": "code",
   "execution_count": 4,
   "metadata": {},
   "outputs": [
    {
     "name": "stdout",
     "output_type": "stream",
     "text": [
      "[1, 2, 3, 4, 5, 6]\n",
      "current number : 1\n",
      "current number : 2\n",
      "current number : 3\n",
      "current number : 4\n",
      "current number : 5\n",
      "current number : 6\n"
     ]
    }
   ],
   "source": [
    "l1 : list[list] = [1,2,3,4,5,6]\n",
    "print(l1)\n",
    "for n in l1 :\n",
    "    print(f\"current number : {n}\")"
   ]
  },
  {
   "cell_type": "code",
   "execution_count": 5,
   "metadata": {},
   "outputs": [
    {
     "name": "stdout",
     "output_type": "stream",
     "text": [
      "current character p \n",
      "current character a \n",
      "current character k \n",
      "current character i \n",
      "current character s \n",
      "current character t \n",
      "current character a \n",
      "current character n \n"
     ]
    }
   ],
   "source": [
    "li : str = \"pakistan\"\n",
    "for c in li :\n",
    "    print(f\"current character {c} \")"
   ]
  },
  {
   "cell_type": "code",
   "execution_count": 5,
   "metadata": {},
   "outputs": [
    {
     "name": "stdout",
     "output_type": "stream",
     "text": [
      "dictionary key name and value is muhammad Aqib khan\n",
      "dictionary key fname and value is 123\n"
     ]
    }
   ],
   "source": [
    "li : dict[str,str] = {\"name\" : \"muhammad Aqib khan\",\"fname\": 123}\n",
    "for k in li : \n",
    "    print(f\"dictionary key {k} and value is {li[k]}\")"
   ]
  },
  {
   "cell_type": "code",
   "execution_count": 9,
   "metadata": {},
   "outputs": [
    {
     "name": "stdout",
     "output_type": "stream",
     "text": [
      "dictionary 1\n",
      "dictionary 2\n",
      "dictionary 3\n",
      "dictionary 4\n",
      "dictionary 5\n"
     ]
    }
   ],
   "source": [
    "li : list[set[int]] = list({1,1,3,4,2,4,3,5,5})\n",
    "for k in li: \n",
    "    print(f\"dictionary {k}\")"
   ]
  },
  {
   "cell_type": "code",
   "execution_count": 12,
   "metadata": {},
   "outputs": [
    {
     "name": "stdout",
     "output_type": "stream",
     "text": [
      "<class 'str'>\n",
      "welcome Dear :aqib khan!\n"
     ]
    }
   ],
   "source": [
    "name : str = input(\"What is your name ? : \\t\")\n",
    "print(type(name))\n",
    "print(f\"welcome Dear :{name}!\")"
   ]
  },
  {
   "cell_type": "code",
   "execution_count": 7,
   "metadata": {},
   "outputs": [
    {
     "name": "stdout",
     "output_type": "stream",
     "text": [
      "current index is :0 valus 100\n",
      "current index is :1 valus 200\n",
      "current index is :2 valus 300\n"
     ]
    }
   ],
   "source": [
    "l1 : list[int] = [100,200 ,300]\n",
    "index : int = 0\n",
    "while index < len(l1):\n",
    "    print(f\"current index is :{index} valus {l1[index]}\")\n",
    "    index +=1"
   ]
  },
  {
   "cell_type": "code",
   "execution_count": 11,
   "metadata": {},
   "outputs": [
    {
     "name": "stdout",
     "output_type": "stream",
     "text": [
      "write quit or exit to stop this program \n",
      "write quit or exit to stop this program \n",
      "write quit or exit to stop this program \n",
      "write quit or exit to stop this program \n",
      "[{'name': 'a', 'education': 'b'}, {'name': 'aqib', 'education': 'bioinfo'}, {'name': 'touseeef', 'education': 'indo'}]\n"
     ]
    }
   ],
   "source": [
    "data : list[dict[str,str]] = []\n",
    "flag : bool = True\n",
    "while flag:\n",
    "    print(\"write quit or exit to stop this program \")\n",
    "    name : str = input('your good name? \\t:')\n",
    "    education : str = input(\"you last  education \\t\")\n",
    "    \n",
    "    if name in [\"exit\",\"quit\",\"close\",\"stop\"] or education in [\"exit\",\"quit\",\"close\",\"stop\"]:\n",
    "        flag =False\n",
    "        break\n",
    "    data.append({\"name\":name, \n",
    "                 \"education\":education})\n",
    "    \n",
    "print(data)"
   ]
  },
  {
   "cell_type": "code",
   "execution_count": 1,
   "metadata": {},
   "outputs": [
    {
     "name": "stdout",
     "output_type": "stream",
     "text": [
      "2 X 1 = 2\n",
      "2 X 2 = 4\n",
      "2 X 3 = 6\n",
      "2 X 4 = 8\n",
      "2 X 5 = 10\n",
      "2 X 6 = 12\n",
      "2 X 7 = 14\n",
      "2 X 8 = 16\n",
      "2 X 9 = 18\n",
      "2 X 10 = 20\n"
     ]
    }
   ],
   "source": [
    "for i in range (1,11):\n",
    "    print(f\"2 X {i} = {i*2}\")\n",
    "    "
   ]
  },
  {
   "cell_type": "code",
   "execution_count": 2,
   "metadata": {},
   "outputs": [
    {
     "name": "stdout",
     "output_type": "stream",
     "text": [
      "16\n"
     ]
    }
   ],
   "source": [
    "print(1 + 7 \\\n",
    "    +8)"
   ]
  },
  {
   "cell_type": "code",
   "execution_count": 4,
   "metadata": {},
   "outputs": [
    {
     "data": {
      "text/plain": [
       "[2, 4, 6]"
      ]
     },
     "execution_count": 4,
     "metadata": {},
     "output_type": "execute_result"
    }
   ],
   "source": [
    "data : list[int] = [1,2,3,4,5,6,7]\n",
    "[i for i in data if i%2==0]"
   ]
  },
  {
   "cell_type": "code",
   "execution_count": 6,
   "metadata": {},
   "outputs": [],
   "source": [
    "prompt:str = \"\\n tell me something , and I will repeat it back to you!\"\n",
    "prompt +=\"\\nEnter 'quit to end the program' \"\n",
    "active = True \n",
    "while active:\n",
    "    message = input(prompt)\n",
    "    if message == \"quit\":\n",
    "        active = False\n",
    "    else:\n",
    "        prin(message)"
   ]
  },
  {
   "cell_type": "code",
   "execution_count": 7,
   "metadata": {},
   "outputs": [
    {
     "name": "stdout",
     "output_type": "stream",
     "text": [
      "abc\n"
     ]
    }
   ],
   "source": [
    "a = \"pakistan\"\n",
    "while a : \n",
    "    print(\"abc\")\n",
    "    break"
   ]
  }
 ],
 "metadata": {
  "kernelspec": {
   "display_name": "Python 3",
   "language": "python",
   "name": "python3"
  },
  "language_info": {
   "codemirror_mode": {
    "name": "ipython",
    "version": 3
   },
   "file_extension": ".py",
   "mimetype": "text/x-python",
   "name": "python",
   "nbconvert_exporter": "python",
   "pygments_lexer": "ipython3",
   "version": "3.12.0"
  }
 },
 "nbformat": 4,
 "nbformat_minor": 2
}
