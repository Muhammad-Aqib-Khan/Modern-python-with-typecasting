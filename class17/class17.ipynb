{
 "cells": [
  {
   "cell_type": "code",
   "execution_count": 4,
   "metadata": {},
   "outputs": [],
   "source": [
    "import pandas as pd\n",
    "import pandera as pa"
   ]
  },
  {
   "cell_type": "code",
   "execution_count": 7,
   "metadata": {},
   "outputs": [
    {
     "data": {
      "text/plain": [
       "0    1\n",
       "1    2\n",
       "2    3\n",
       "3    4\n",
       "4    5\n",
       "5    6\n",
       "dtype: int64"
      ]
     },
     "execution_count": 7,
     "metadata": {},
     "output_type": "execute_result"
    }
   ],
   "source": [
    "s1 : pd.Series = pd.Series([1,2,3,4,5,6])\n",
    "s1"
   ]
  },
  {
   "cell_type": "code",
   "execution_count": 8,
   "metadata": {},
   "outputs": [
    {
     "data": {
      "text/plain": [
       "0    1\n",
       "1    2\n",
       "2    3\n",
       "3    4\n",
       "4    5\n",
       "5    6\n",
       "dtype: int64"
      ]
     },
     "execution_count": 8,
     "metadata": {},
     "output_type": "execute_result"
    }
   ],
   "source": [
    "s1 : pd.Series = pd.Series((1,2,3,4,5,6))\n",
    "s1"
   ]
  },
  {
   "cell_type": "code",
   "execution_count": 9,
   "metadata": {},
   "outputs": [
    {
     "data": {
      "text/plain": [
       "a    1\n",
       "b    2\n",
       "C    3\n",
       "d    4\n",
       "e    5\n",
       "f    6\n",
       "dtype: int64"
      ]
     },
     "execution_count": 9,
     "metadata": {},
     "output_type": "execute_result"
    }
   ],
   "source": [
    "s1 : pd.Series = pd.Series({\"a\":1,\n",
    "                            \"b\":2,\n",
    "                            \"C\":3,\n",
    "                            \"d\":4,\n",
    "                            \"e\": 5,\n",
    "                            \"f\": 6})\n",
    "s1"
   ]
  },
  {
   "cell_type": "code",
   "execution_count": 10,
   "metadata": {},
   "outputs": [
    {
     "data": {
      "text/plain": [
       "a    1\n",
       "b    2\n",
       "c    3\n",
       "d    4\n",
       "e    5\n",
       "dtype: int64"
      ]
     },
     "execution_count": 10,
     "metadata": {},
     "output_type": "execute_result"
    }
   ],
   "source": [
    "values : list[int] = [1,2,3,4,5]\n",
    "index1 : list[str] = [\"a\",\"b\",\"c\",\"d\",\"e\"]\n",
    "\n",
    "s1 : pd.Series = pd.Series(values, index=index1)\n",
    "s1"
   ]
  },
  {
   "cell_type": "code",
   "execution_count": 13,
   "metadata": {},
   "outputs": [
    {
     "data": {
      "text/plain": [
       "a1  a    1\n",
       "    b    2\n",
       "    c    3\n",
       "b1  d    4\n",
       "b   e    5\n",
       "dtype: int64"
      ]
     },
     "execution_count": 13,
     "metadata": {},
     "output_type": "execute_result"
    }
   ],
   "source": [
    "values : list[int] = [1,2,3,4,5]\n",
    "index1 : list[list[str]] = [\n",
    "                            [\"a1\",\"a1\",\"a1\",\"b1\",\"b\"],\n",
    "                            [\"a\",\"b\",\"c\",\"d\",\"e\"]]\n",
    "\n",
    "s1 : pd.Series = pd.Series(values, index=index1)\n",
    "s1"
   ]
  },
  {
   "cell_type": "code",
   "execution_count": null,
   "metadata": {},
   "outputs": [],
   "source": [
    "values : list[int] = [1,2,3,4,5]\n",
    "index1 : list[list[str]] = [\n",
    "                            [\"a1\",\"a1\",\"a1\",\"b1\",\"b\"],\n",
    "                            [\"a\",\"b\",\"c\",\"d\",\"e\"]]\n",
    "\n",
    "s1 : pd.Series = pd.Series(values, index=index1,\n",
    "                           name=\"student_name\",\n",
    "                           dtype:int32)\n",
    "s1"
   ]
  },
  {
   "cell_type": "code",
   "execution_count": 41,
   "metadata": {},
   "outputs": [
    {
     "data": {
      "text/html": [
       "<div>\n",
       "<style scoped>\n",
       "    .dataframe tbody tr th:only-of-type {\n",
       "        vertical-align: middle;\n",
       "    }\n",
       "\n",
       "    .dataframe tbody tr th {\n",
       "        vertical-align: top;\n",
       "    }\n",
       "\n",
       "    .dataframe thead th {\n",
       "        text-align: right;\n",
       "    }\n",
       "</style>\n",
       "<table border=\"1\" class=\"dataframe\">\n",
       "  <thead>\n",
       "    <tr style=\"text-align: right;\">\n",
       "      <th></th>\n",
       "      <th>student id</th>\n",
       "      <th>Score</th>\n",
       "      <th>Student name</th>\n",
       "    </tr>\n",
       "  </thead>\n",
       "  <tbody>\n",
       "    <tr>\n",
       "      <th>0</th>\n",
       "      <td>1</td>\n",
       "      <td>10</td>\n",
       "      <td>Amir</td>\n",
       "    </tr>\n",
       "    <tr>\n",
       "      <th>1</th>\n",
       "      <td>2</td>\n",
       "      <td>20</td>\n",
       "      <td>ALi</td>\n",
       "    </tr>\n",
       "    <tr>\n",
       "      <th>2</th>\n",
       "      <td>3</td>\n",
       "      <td>30</td>\n",
       "      <td>Hamza</td>\n",
       "    </tr>\n",
       "    <tr>\n",
       "      <th>3</th>\n",
       "      <td>4</td>\n",
       "      <td>40</td>\n",
       "      <td>Rashid</td>\n",
       "    </tr>\n",
       "    <tr>\n",
       "      <th>4</th>\n",
       "      <td>5</td>\n",
       "      <td>50</td>\n",
       "      <td>Aqib</td>\n",
       "    </tr>\n",
       "  </tbody>\n",
       "</table>\n",
       "</div>"
      ],
      "text/plain": [
       "   student id  Score Student name\n",
       "0           1     10         Amir\n",
       "1           2     20          ALi\n",
       "2           3     30        Hamza\n",
       "3           4     40       Rashid\n",
       "4           5     50         Aqib"
      ]
     },
     "execution_count": 41,
     "metadata": {},
     "output_type": "execute_result"
    }
   ],
   "source": [
    "from nptyping import DataFrame\n",
    "s1 : pd.Series = pd.Series([1,2,3,4,5],name=\"student Id\")\n",
    "s2 : pd.Series = pd.Series([10,20,30,40,50], name= \"Score\")\n",
    "s3 : pd.Series = pd.Series([\"Amir\",\"ALi\",\"Hamza\",\"Rashid\",\"Aqib\"],name = \"Student name\")\n",
    "\n",
    "df1 : pd.DataFrame = pd.DataFrame({\"student id\":s1,\"Score\":s2 ,\"Student name\":s3})\n",
    "df1\n",
    "\n",
    "# df2 : pd.DataFrame = pd.concat([s1,s2,s3], axis=1)\n",
    "# df2"
   ]
  },
  {
   "cell_type": "code",
   "execution_count": 42,
   "metadata": {},
   "outputs": [
    {
     "data": {
      "text/html": [
       "<div>\n",
       "<style scoped>\n",
       "    .dataframe tbody tr th:only-of-type {\n",
       "        vertical-align: middle;\n",
       "    }\n",
       "\n",
       "    .dataframe tbody tr th {\n",
       "        vertical-align: top;\n",
       "    }\n",
       "\n",
       "    .dataframe thead th {\n",
       "        text-align: right;\n",
       "    }\n",
       "</style>\n",
       "<table border=\"1\" class=\"dataframe\">\n",
       "  <thead>\n",
       "    <tr style=\"text-align: right;\">\n",
       "      <th></th>\n",
       "      <th>student id</th>\n",
       "      <th>Score</th>\n",
       "      <th>Student name</th>\n",
       "    </tr>\n",
       "  </thead>\n",
       "  <tbody>\n",
       "    <tr>\n",
       "      <th>0</th>\n",
       "      <td>1</td>\n",
       "      <td>10</td>\n",
       "      <td>Amir</td>\n",
       "    </tr>\n",
       "    <tr>\n",
       "      <th>1</th>\n",
       "      <td>2</td>\n",
       "      <td>20</td>\n",
       "      <td>ALi</td>\n",
       "    </tr>\n",
       "    <tr>\n",
       "      <th>2</th>\n",
       "      <td>3</td>\n",
       "      <td>30</td>\n",
       "      <td>Hamza</td>\n",
       "    </tr>\n",
       "    <tr>\n",
       "      <th>3</th>\n",
       "      <td>4</td>\n",
       "      <td>40</td>\n",
       "      <td>Rashid</td>\n",
       "    </tr>\n",
       "    <tr>\n",
       "      <th>4</th>\n",
       "      <td>5</td>\n",
       "      <td>50</td>\n",
       "      <td>Aqib</td>\n",
       "    </tr>\n",
       "  </tbody>\n",
       "</table>\n",
       "</div>"
      ],
      "text/plain": [
       "   student id  Score Student name\n",
       "0           1     10         Amir\n",
       "1           2     20          ALi\n",
       "2           3     30        Hamza\n",
       "3           4     40       Rashid\n",
       "4           5     50         Aqib"
      ]
     },
     "execution_count": 42,
     "metadata": {},
     "output_type": "execute_result"
    }
   ],
   "source": [
    "from nptyping import DataFrame\n",
    "s1 : pd.Series = pd.Series([1,2,3,4,5])\n",
    "s2 : pd.Series = pd.Series([10,20,30,40,50])\n",
    "s3 : pd.Series = pd.Series([\"Amir\",\"ALi\",\"Hamza\",\"Rashid\",\"Aqib\"])\n",
    "\n",
    "df1 : pd.DataFrame = pd.DataFrame({\"student id\":s1,\"Score\":s2 ,\"Student name\":s3})\n",
    "df1\n"
   ]
  }
 ],
 "metadata": {
  "kernelspec": {
   "display_name": "python12",
   "language": "python",
   "name": "python3"
  },
  "language_info": {
   "codemirror_mode": {
    "name": "ipython",
    "version": 3
   },
   "file_extension": ".py",
   "mimetype": "text/x-python",
   "name": "python",
   "nbconvert_exporter": "python",
   "pygments_lexer": "ipython3",
   "version": "3.12.0"
  }
 },
 "nbformat": 4,
 "nbformat_minor": 2
}
