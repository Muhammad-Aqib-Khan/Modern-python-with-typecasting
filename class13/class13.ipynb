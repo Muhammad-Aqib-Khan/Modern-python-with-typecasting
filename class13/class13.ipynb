{
 "cells": [
  {
   "cell_type": "code",
   "execution_count": 61,
   "metadata": {},
   "outputs": [],
   "source": [
    "class Teacher():\n",
    "    def __init__(self, teacher_id : int ,teacher_name : str)->None :\n",
    "        self.name : str = teacher_name\n",
    "        self.teacher_id : int = teacher_id\n",
    "        self.organization_name = \"PIAIc\"\n",
    "        \n",
    "    def speak(self,words : str)->None:\n",
    "        print(f\"{self.name} is speaking {self.words}\")\n",
    "    def teaching(self,subject:str)-> None :\n",
    "        print(f\"{self.name} is teaching {subject}...!\")"
   ]
  },
  {
   "cell_type": "code",
   "execution_count": 63,
   "metadata": {},
   "outputs": [
    {
     "name": "stdout",
     "output_type": "stream",
     "text": [
      "SIr Zia\n",
      "1\n",
      "PIAIc\n",
      "AMir Khan\n",
      "1\n",
      "PIAIc\n",
      "SIr Zia is teaching GEN AI\n"
     ]
    }
   ],
   "source": [
    "\n",
    "obj1 : Teacher = Teacher(1,\"SIr Zia\")\n",
    "obj2 : Teacher = Teacher(2,\"AMir Khan\")\n",
    "\n",
    "print(obj1.name)\n",
    "print(obj1.teacher_id)\n",
    "print(obj1.organization_name)\n",
    "\n",
    "print(obj2.name)\n",
    "print(obj1.teacher_id)\n",
    "print(obj2.organization_name)\n"
   ]
  },
  {
   "cell_type": "code",
   "execution_count": 66,
   "metadata": {},
   "outputs": [
    {
     "name": "stdout",
     "output_type": "stream",
     "text": [
      "SIr Zia is teaching GEN AI\n",
      "AMir Khan is teaching Deep learning\n"
     ]
    }
   ],
   "source": [
    "obj1.teaching(\"GEN AI\")\n",
    "obj2.teaching(\"Deep learning\")\n"
   ]
  },
  {
   "cell_type": "code",
   "execution_count": 81,
   "metadata": {},
   "outputs": [
    {
     "name": "stdout",
     "output_type": "stream",
     "text": [
      "Brown\n",
      "Black\n",
      "paent method speak :pakistan\n",
      "you are looking likeTb\n",
      "\n",
      "=============THis is child object =======================\n",
      "\n",
      "you are looking likeCenima\n",
      "paent method speak :This is Muhammad Aqib khan\n",
      "Brown\n",
      "Black\n",
      "child method for teaching Deep learning\n"
     ]
    }
   ],
   "source": [
    "class Parents():\n",
    "    def __init__(self)->None:\n",
    "        self.eye_color : str = \"Brown\"\n",
    "        self.hair_color : str = \"Black\"\n",
    "        \n",
    "    def speak(self,words : str)->None:\n",
    "        print(f\"paent method speak :{words}\")\n",
    "        \n",
    "    def watching(self,object_name : str)->None:\n",
    "        print(f\"you are looking like{object_name}\")\n",
    "\n",
    "class Child(Parents):\n",
    "    def teaching(self,subject : str)->None:\n",
    "        print(f\"child method for teaching {subject}\")\n",
    "\n",
    "\n",
    "obj1 : Parents = Parents()\n",
    "print(obj1.eye_color)\n",
    "print(obj1.hair_color)\n",
    "obj1.speak(\"pakistan\")\n",
    "obj1.watching(\"Tb\")\n",
    "\n",
    "print(\"\\n=============THis is child object =======================\\n\")\n",
    "## child object :\n",
    "\n",
    "obj2 : Child = Child()\n",
    "obj2.watching(\"Cenima\")\n",
    "obj2.speak('This is Muhammad Aqib khan')\n",
    "print(obj2.eye_color)\n",
    "print(obj2.hair_color)\n",
    "obj2.teaching(\"Deep learning\")\n",
    "\n",
    "\n",
    "\n",
    "\n",
    "\n",
    "\n",
    "\n",
    "\n",
    "\n",
    "\n",
    "\n"
   ]
  },
  {
   "cell_type": "code",
   "execution_count": null,
   "metadata": {},
   "outputs": [],
   "source": []
  },
  {
   "cell_type": "code",
   "execution_count": null,
   "metadata": {},
   "outputs": [],
   "source": []
  }
 ],
 "metadata": {
  "kernelspec": {
   "display_name": "python12",
   "language": "python",
   "name": "python3"
  },
  "language_info": {
   "codemirror_mode": {
    "name": "ipython",
    "version": 3
   },
   "file_extension": ".py",
   "mimetype": "text/x-python",
   "name": "python",
   "nbconvert_exporter": "python",
   "pygments_lexer": "ipython3",
   "version": "3.12.0"
  }
 },
 "nbformat": 4,
 "nbformat_minor": 2
}
